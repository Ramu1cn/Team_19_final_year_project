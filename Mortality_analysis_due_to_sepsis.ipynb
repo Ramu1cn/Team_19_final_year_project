{
  "nbformat": 4,
  "nbformat_minor": 0,
  "metadata": {
    "colab": {
      "provenance": []
    },
    "kernelspec": {
      "name": "python3",
      "display_name": "Python 3"
    },
    "language_info": {
      "name": "python"
    }
  },
  "cells": [
    {
      "cell_type": "code",
      "execution_count": null,
      "metadata": {
        "id": "F-9QbqAIWK4L"
      },
      "outputs": [],
      "source": [
        "#Stage 1 process contains the data analysis of sepsis occurance"
      ]
    },
    {
      "cell_type": "code",
      "source": [
        "import numpy as np\n",
        "import matplotlib.pyplot as plt\n",
        "import seaborn as sns\n",
        "import pandas as pd\n",
        "import tensorflow as tf\n",
        "from tensorflow import keras\n",
        "\n",
        "%matplotlib inline"
      ],
      "metadata": {
        "id": "YnlUpXfwntZ_"
      },
      "execution_count": 1,
      "outputs": []
    },
    {
      "cell_type": "markdown",
      "source": [
        "Stage 1 of mortality analysis of sepsis( data analysis of occuring sepsis)"
      ],
      "metadata": {
        "id": "xn87qtwd8ku7"
      }
    },
    {
      "cell_type": "code",
      "source": [
        "df = pd.read_csv('/content/drive/MyDrive/Colab Notebooks/Dataset.csv')\n",
        "df.head()"
      ],
      "metadata": {
        "colab": {
          "base_uri": "https://localhost:8080/",
          "height": 272
        },
        "id": "ifmxXyGA8o2f",
        "outputId": "76fbd762-2629-4990-8145-fb89363b3ce8"
      },
      "execution_count": 2,
      "outputs": [
        {
          "output_type": "execute_result",
          "data": {
            "text/plain": [
              "   Unnamed: 0  Hour    HR  O2Sat  Temp    SBP   MAP   DBP  Resp  EtCO2  ...  \\\n",
              "0           0     0   NaN    NaN   NaN    NaN   NaN   NaN   NaN    NaN  ...   \n",
              "1           1     1  65.0  100.0   NaN    NaN  72.0   NaN  16.5    NaN  ...   \n",
              "2           2     2  78.0  100.0   NaN    NaN  42.5   NaN   NaN    NaN  ...   \n",
              "3           3     3  73.0  100.0   NaN    NaN   NaN   NaN  17.0    NaN  ...   \n",
              "4           4     4  70.0  100.0   NaN  129.0  74.0  69.0  14.0    NaN  ...   \n",
              "\n",
              "   Fibrinogen  Platelets    Age  Gender  Unit1  Unit2  HospAdmTime  ICULOS  \\\n",
              "0         NaN        NaN  68.54       0    NaN    NaN        -0.02       1   \n",
              "1         NaN        NaN  68.54       0    NaN    NaN        -0.02       2   \n",
              "2         NaN        NaN  68.54       0    NaN    NaN        -0.02       3   \n",
              "3         NaN        NaN  68.54       0    NaN    NaN        -0.02       4   \n",
              "4         NaN      330.0  68.54       0    NaN    NaN        -0.02       5   \n",
              "\n",
              "   SepsisLabel  Patient_ID  \n",
              "0            0       17072  \n",
              "1            0       17072  \n",
              "2            0       17072  \n",
              "3            0       17072  \n",
              "4            0       17072  \n",
              "\n",
              "[5 rows x 44 columns]"
            ],
            "text/html": [
              "\n",
              "  <div id=\"df-dce561ee-18a3-4489-8798-6650f3e063dd\" class=\"colab-df-container\">\n",
              "    <div>\n",
              "<style scoped>\n",
              "    .dataframe tbody tr th:only-of-type {\n",
              "        vertical-align: middle;\n",
              "    }\n",
              "\n",
              "    .dataframe tbody tr th {\n",
              "        vertical-align: top;\n",
              "    }\n",
              "\n",
              "    .dataframe thead th {\n",
              "        text-align: right;\n",
              "    }\n",
              "</style>\n",
              "<table border=\"1\" class=\"dataframe\">\n",
              "  <thead>\n",
              "    <tr style=\"text-align: right;\">\n",
              "      <th></th>\n",
              "      <th>Unnamed: 0</th>\n",
              "      <th>Hour</th>\n",
              "      <th>HR</th>\n",
              "      <th>O2Sat</th>\n",
              "      <th>Temp</th>\n",
              "      <th>SBP</th>\n",
              "      <th>MAP</th>\n",
              "      <th>DBP</th>\n",
              "      <th>Resp</th>\n",
              "      <th>EtCO2</th>\n",
              "      <th>...</th>\n",
              "      <th>Fibrinogen</th>\n",
              "      <th>Platelets</th>\n",
              "      <th>Age</th>\n",
              "      <th>Gender</th>\n",
              "      <th>Unit1</th>\n",
              "      <th>Unit2</th>\n",
              "      <th>HospAdmTime</th>\n",
              "      <th>ICULOS</th>\n",
              "      <th>SepsisLabel</th>\n",
              "      <th>Patient_ID</th>\n",
              "    </tr>\n",
              "  </thead>\n",
              "  <tbody>\n",
              "    <tr>\n",
              "      <th>0</th>\n",
              "      <td>0</td>\n",
              "      <td>0</td>\n",
              "      <td>NaN</td>\n",
              "      <td>NaN</td>\n",
              "      <td>NaN</td>\n",
              "      <td>NaN</td>\n",
              "      <td>NaN</td>\n",
              "      <td>NaN</td>\n",
              "      <td>NaN</td>\n",
              "      <td>NaN</td>\n",
              "      <td>...</td>\n",
              "      <td>NaN</td>\n",
              "      <td>NaN</td>\n",
              "      <td>68.54</td>\n",
              "      <td>0</td>\n",
              "      <td>NaN</td>\n",
              "      <td>NaN</td>\n",
              "      <td>-0.02</td>\n",
              "      <td>1</td>\n",
              "      <td>0</td>\n",
              "      <td>17072</td>\n",
              "    </tr>\n",
              "    <tr>\n",
              "      <th>1</th>\n",
              "      <td>1</td>\n",
              "      <td>1</td>\n",
              "      <td>65.0</td>\n",
              "      <td>100.0</td>\n",
              "      <td>NaN</td>\n",
              "      <td>NaN</td>\n",
              "      <td>72.0</td>\n",
              "      <td>NaN</td>\n",
              "      <td>16.5</td>\n",
              "      <td>NaN</td>\n",
              "      <td>...</td>\n",
              "      <td>NaN</td>\n",
              "      <td>NaN</td>\n",
              "      <td>68.54</td>\n",
              "      <td>0</td>\n",
              "      <td>NaN</td>\n",
              "      <td>NaN</td>\n",
              "      <td>-0.02</td>\n",
              "      <td>2</td>\n",
              "      <td>0</td>\n",
              "      <td>17072</td>\n",
              "    </tr>\n",
              "    <tr>\n",
              "      <th>2</th>\n",
              "      <td>2</td>\n",
              "      <td>2</td>\n",
              "      <td>78.0</td>\n",
              "      <td>100.0</td>\n",
              "      <td>NaN</td>\n",
              "      <td>NaN</td>\n",
              "      <td>42.5</td>\n",
              "      <td>NaN</td>\n",
              "      <td>NaN</td>\n",
              "      <td>NaN</td>\n",
              "      <td>...</td>\n",
              "      <td>NaN</td>\n",
              "      <td>NaN</td>\n",
              "      <td>68.54</td>\n",
              "      <td>0</td>\n",
              "      <td>NaN</td>\n",
              "      <td>NaN</td>\n",
              "      <td>-0.02</td>\n",
              "      <td>3</td>\n",
              "      <td>0</td>\n",
              "      <td>17072</td>\n",
              "    </tr>\n",
              "    <tr>\n",
              "      <th>3</th>\n",
              "      <td>3</td>\n",
              "      <td>3</td>\n",
              "      <td>73.0</td>\n",
              "      <td>100.0</td>\n",
              "      <td>NaN</td>\n",
              "      <td>NaN</td>\n",
              "      <td>NaN</td>\n",
              "      <td>NaN</td>\n",
              "      <td>17.0</td>\n",
              "      <td>NaN</td>\n",
              "      <td>...</td>\n",
              "      <td>NaN</td>\n",
              "      <td>NaN</td>\n",
              "      <td>68.54</td>\n",
              "      <td>0</td>\n",
              "      <td>NaN</td>\n",
              "      <td>NaN</td>\n",
              "      <td>-0.02</td>\n",
              "      <td>4</td>\n",
              "      <td>0</td>\n",
              "      <td>17072</td>\n",
              "    </tr>\n",
              "    <tr>\n",
              "      <th>4</th>\n",
              "      <td>4</td>\n",
              "      <td>4</td>\n",
              "      <td>70.0</td>\n",
              "      <td>100.0</td>\n",
              "      <td>NaN</td>\n",
              "      <td>129.0</td>\n",
              "      <td>74.0</td>\n",
              "      <td>69.0</td>\n",
              "      <td>14.0</td>\n",
              "      <td>NaN</td>\n",
              "      <td>...</td>\n",
              "      <td>NaN</td>\n",
              "      <td>330.0</td>\n",
              "      <td>68.54</td>\n",
              "      <td>0</td>\n",
              "      <td>NaN</td>\n",
              "      <td>NaN</td>\n",
              "      <td>-0.02</td>\n",
              "      <td>5</td>\n",
              "      <td>0</td>\n",
              "      <td>17072</td>\n",
              "    </tr>\n",
              "  </tbody>\n",
              "</table>\n",
              "<p>5 rows × 44 columns</p>\n",
              "</div>\n",
              "    <div class=\"colab-df-buttons\">\n",
              "\n",
              "  <div class=\"colab-df-container\">\n",
              "    <button class=\"colab-df-convert\" onclick=\"convertToInteractive('df-dce561ee-18a3-4489-8798-6650f3e063dd')\"\n",
              "            title=\"Convert this dataframe to an interactive table.\"\n",
              "            style=\"display:none;\">\n",
              "\n",
              "  <svg xmlns=\"http://www.w3.org/2000/svg\" height=\"24px\" viewBox=\"0 -960 960 960\">\n",
              "    <path d=\"M120-120v-720h720v720H120Zm60-500h600v-160H180v160Zm220 220h160v-160H400v160Zm0 220h160v-160H400v160ZM180-400h160v-160H180v160Zm440 0h160v-160H620v160ZM180-180h160v-160H180v160Zm440 0h160v-160H620v160Z\"/>\n",
              "  </svg>\n",
              "    </button>\n",
              "\n",
              "  <style>\n",
              "    .colab-df-container {\n",
              "      display:flex;\n",
              "      gap: 12px;\n",
              "    }\n",
              "\n",
              "    .colab-df-convert {\n",
              "      background-color: #E8F0FE;\n",
              "      border: none;\n",
              "      border-radius: 50%;\n",
              "      cursor: pointer;\n",
              "      display: none;\n",
              "      fill: #1967D2;\n",
              "      height: 32px;\n",
              "      padding: 0 0 0 0;\n",
              "      width: 32px;\n",
              "    }\n",
              "\n",
              "    .colab-df-convert:hover {\n",
              "      background-color: #E2EBFA;\n",
              "      box-shadow: 0px 1px 2px rgba(60, 64, 67, 0.3), 0px 1px 3px 1px rgba(60, 64, 67, 0.15);\n",
              "      fill: #174EA6;\n",
              "    }\n",
              "\n",
              "    .colab-df-buttons div {\n",
              "      margin-bottom: 4px;\n",
              "    }\n",
              "\n",
              "    [theme=dark] .colab-df-convert {\n",
              "      background-color: #3B4455;\n",
              "      fill: #D2E3FC;\n",
              "    }\n",
              "\n",
              "    [theme=dark] .colab-df-convert:hover {\n",
              "      background-color: #434B5C;\n",
              "      box-shadow: 0px 1px 3px 1px rgba(0, 0, 0, 0.15);\n",
              "      filter: drop-shadow(0px 1px 2px rgba(0, 0, 0, 0.3));\n",
              "      fill: #FFFFFF;\n",
              "    }\n",
              "  </style>\n",
              "\n",
              "    <script>\n",
              "      const buttonEl =\n",
              "        document.querySelector('#df-dce561ee-18a3-4489-8798-6650f3e063dd button.colab-df-convert');\n",
              "      buttonEl.style.display =\n",
              "        google.colab.kernel.accessAllowed ? 'block' : 'none';\n",
              "\n",
              "      async function convertToInteractive(key) {\n",
              "        const element = document.querySelector('#df-dce561ee-18a3-4489-8798-6650f3e063dd');\n",
              "        const dataTable =\n",
              "          await google.colab.kernel.invokeFunction('convertToInteractive',\n",
              "                                                    [key], {});\n",
              "        if (!dataTable) return;\n",
              "\n",
              "        const docLinkHtml = 'Like what you see? Visit the ' +\n",
              "          '<a target=\"_blank\" href=https://colab.research.google.com/notebooks/data_table.ipynb>data table notebook</a>'\n",
              "          + ' to learn more about interactive tables.';\n",
              "        element.innerHTML = '';\n",
              "        dataTable['output_type'] = 'display_data';\n",
              "        await google.colab.output.renderOutput(dataTable, element);\n",
              "        const docLink = document.createElement('div');\n",
              "        docLink.innerHTML = docLinkHtml;\n",
              "        element.appendChild(docLink);\n",
              "      }\n",
              "    </script>\n",
              "  </div>\n",
              "\n",
              "\n",
              "<div id=\"df-8baf8b0c-b48c-4621-989e-560f040b8c8a\">\n",
              "  <button class=\"colab-df-quickchart\" onclick=\"quickchart('df-8baf8b0c-b48c-4621-989e-560f040b8c8a')\"\n",
              "            title=\"Suggest charts\"\n",
              "            style=\"display:none;\">\n",
              "\n",
              "<svg xmlns=\"http://www.w3.org/2000/svg\" height=\"24px\"viewBox=\"0 0 24 24\"\n",
              "     width=\"24px\">\n",
              "    <g>\n",
              "        <path d=\"M19 3H5c-1.1 0-2 .9-2 2v14c0 1.1.9 2 2 2h14c1.1 0 2-.9 2-2V5c0-1.1-.9-2-2-2zM9 17H7v-7h2v7zm4 0h-2V7h2v10zm4 0h-2v-4h2v4z\"/>\n",
              "    </g>\n",
              "</svg>\n",
              "  </button>\n",
              "\n",
              "<style>\n",
              "  .colab-df-quickchart {\n",
              "      --bg-color: #E8F0FE;\n",
              "      --fill-color: #1967D2;\n",
              "      --hover-bg-color: #E2EBFA;\n",
              "      --hover-fill-color: #174EA6;\n",
              "      --disabled-fill-color: #AAA;\n",
              "      --disabled-bg-color: #DDD;\n",
              "  }\n",
              "\n",
              "  [theme=dark] .colab-df-quickchart {\n",
              "      --bg-color: #3B4455;\n",
              "      --fill-color: #D2E3FC;\n",
              "      --hover-bg-color: #434B5C;\n",
              "      --hover-fill-color: #FFFFFF;\n",
              "      --disabled-bg-color: #3B4455;\n",
              "      --disabled-fill-color: #666;\n",
              "  }\n",
              "\n",
              "  .colab-df-quickchart {\n",
              "    background-color: var(--bg-color);\n",
              "    border: none;\n",
              "    border-radius: 50%;\n",
              "    cursor: pointer;\n",
              "    display: none;\n",
              "    fill: var(--fill-color);\n",
              "    height: 32px;\n",
              "    padding: 0;\n",
              "    width: 32px;\n",
              "  }\n",
              "\n",
              "  .colab-df-quickchart:hover {\n",
              "    background-color: var(--hover-bg-color);\n",
              "    box-shadow: 0 1px 2px rgba(60, 64, 67, 0.3), 0 1px 3px 1px rgba(60, 64, 67, 0.15);\n",
              "    fill: var(--button-hover-fill-color);\n",
              "  }\n",
              "\n",
              "  .colab-df-quickchart-complete:disabled,\n",
              "  .colab-df-quickchart-complete:disabled:hover {\n",
              "    background-color: var(--disabled-bg-color);\n",
              "    fill: var(--disabled-fill-color);\n",
              "    box-shadow: none;\n",
              "  }\n",
              "\n",
              "  .colab-df-spinner {\n",
              "    border: 2px solid var(--fill-color);\n",
              "    border-color: transparent;\n",
              "    border-bottom-color: var(--fill-color);\n",
              "    animation:\n",
              "      spin 1s steps(1) infinite;\n",
              "  }\n",
              "\n",
              "  @keyframes spin {\n",
              "    0% {\n",
              "      border-color: transparent;\n",
              "      border-bottom-color: var(--fill-color);\n",
              "      border-left-color: var(--fill-color);\n",
              "    }\n",
              "    20% {\n",
              "      border-color: transparent;\n",
              "      border-left-color: var(--fill-color);\n",
              "      border-top-color: var(--fill-color);\n",
              "    }\n",
              "    30% {\n",
              "      border-color: transparent;\n",
              "      border-left-color: var(--fill-color);\n",
              "      border-top-color: var(--fill-color);\n",
              "      border-right-color: var(--fill-color);\n",
              "    }\n",
              "    40% {\n",
              "      border-color: transparent;\n",
              "      border-right-color: var(--fill-color);\n",
              "      border-top-color: var(--fill-color);\n",
              "    }\n",
              "    60% {\n",
              "      border-color: transparent;\n",
              "      border-right-color: var(--fill-color);\n",
              "    }\n",
              "    80% {\n",
              "      border-color: transparent;\n",
              "      border-right-color: var(--fill-color);\n",
              "      border-bottom-color: var(--fill-color);\n",
              "    }\n",
              "    90% {\n",
              "      border-color: transparent;\n",
              "      border-bottom-color: var(--fill-color);\n",
              "    }\n",
              "  }\n",
              "</style>\n",
              "\n",
              "  <script>\n",
              "    async function quickchart(key) {\n",
              "      const quickchartButtonEl =\n",
              "        document.querySelector('#' + key + ' button');\n",
              "      quickchartButtonEl.disabled = true;  // To prevent multiple clicks.\n",
              "      quickchartButtonEl.classList.add('colab-df-spinner');\n",
              "      try {\n",
              "        const charts = await google.colab.kernel.invokeFunction(\n",
              "            'suggestCharts', [key], {});\n",
              "      } catch (error) {\n",
              "        console.error('Error during call to suggestCharts:', error);\n",
              "      }\n",
              "      quickchartButtonEl.classList.remove('colab-df-spinner');\n",
              "      quickchartButtonEl.classList.add('colab-df-quickchart-complete');\n",
              "    }\n",
              "    (() => {\n",
              "      let quickchartButtonEl =\n",
              "        document.querySelector('#df-8baf8b0c-b48c-4621-989e-560f040b8c8a button');\n",
              "      quickchartButtonEl.style.display =\n",
              "        google.colab.kernel.accessAllowed ? 'block' : 'none';\n",
              "    })();\n",
              "  </script>\n",
              "</div>\n",
              "    </div>\n",
              "  </div>\n"
            ],
            "application/vnd.google.colaboratory.intrinsic+json": {
              "type": "dataframe",
              "variable_name": "df"
            }
          },
          "metadata": {},
          "execution_count": 2
        }
      ]
    },
    {
      "cell_type": "code",
      "source": [
        "# By default , python displays few rows and columns.\n",
        "# Set the below parameters so that all rows and columns would be visible\n",
        "\n",
        "#pd.set_option(\"display.max_columns\", None)\n",
        "#pd.set_option(\"display.max_rows\", None)"
      ],
      "metadata": {
        "id": "xPk0NvCs-4DZ"
      },
      "execution_count": null,
      "outputs": []
    },
    {
      "cell_type": "code",
      "source": [
        "df.shape"
      ],
      "metadata": {
        "colab": {
          "base_uri": "https://localhost:8080/"
        },
        "id": "8zft6f7V_G1x",
        "outputId": "d04713c3-e08e-4f7a-9b41-d797df233bd3"
      },
      "execution_count": 3,
      "outputs": [
        {
          "output_type": "execute_result",
          "data": {
            "text/plain": [
              "(1552210, 44)"
            ]
          },
          "metadata": {},
          "execution_count": 3
        }
      ]
    },
    {
      "cell_type": "code",
      "source": [
        "df.tail()"
      ],
      "metadata": {
        "colab": {
          "base_uri": "https://localhost:8080/",
          "height": 272
        },
        "id": "9hy9VJF8_OSK",
        "outputId": "e8bba781-9b9b-4685-819b-1405c8947d1f"
      },
      "execution_count": 4,
      "outputs": [
        {
          "output_type": "execute_result",
          "data": {
            "text/plain": [
              "         Unnamed: 0  Hour     HR  O2Sat  Temp    SBP   MAP   DBP  Resp  EtCO2  \\\n",
              "1552205          21    21   83.0   99.0   NaN  121.0  77.0  54.0  22.0    NaN   \n",
              "1552206          22    22   80.0   92.0   NaN  102.0  73.0  51.0  24.0    NaN   \n",
              "1552207          23    23   95.0   97.0  36.7  128.5  83.0  58.5  25.0    NaN   \n",
              "1552208          24    24  104.0   99.0   NaN  127.0  85.0  59.0  24.0    NaN   \n",
              "1552209          25    25   94.5   99.0   NaN  112.0  81.0  56.0  22.0    NaN   \n",
              "\n",
              "         ...  Fibrinogen  Platelets   Age  Gender  Unit1  Unit2  HospAdmTime  \\\n",
              "1552205  ...         NaN        NaN  88.0       0    1.0    0.0        -2.93   \n",
              "1552206  ...         NaN        NaN  88.0       0    1.0    0.0        -2.93   \n",
              "1552207  ...         NaN        NaN  88.0       0    1.0    0.0        -2.93   \n",
              "1552208  ...         NaN        NaN  88.0       0    1.0    0.0        -2.93   \n",
              "1552209  ...         NaN        NaN  88.0       0    1.0    0.0        -2.93   \n",
              "\n",
              "         ICULOS  SepsisLabel  Patient_ID  \n",
              "1552205      22            0      113911  \n",
              "1552206      23            0      113911  \n",
              "1552207      24            0      113911  \n",
              "1552208      25            0      113911  \n",
              "1552209      26            0      113911  \n",
              "\n",
              "[5 rows x 44 columns]"
            ],
            "text/html": [
              "\n",
              "  <div id=\"df-94319990-1f8e-4a4e-81cc-e4e7e899fee5\" class=\"colab-df-container\">\n",
              "    <div>\n",
              "<style scoped>\n",
              "    .dataframe tbody tr th:only-of-type {\n",
              "        vertical-align: middle;\n",
              "    }\n",
              "\n",
              "    .dataframe tbody tr th {\n",
              "        vertical-align: top;\n",
              "    }\n",
              "\n",
              "    .dataframe thead th {\n",
              "        text-align: right;\n",
              "    }\n",
              "</style>\n",
              "<table border=\"1\" class=\"dataframe\">\n",
              "  <thead>\n",
              "    <tr style=\"text-align: right;\">\n",
              "      <th></th>\n",
              "      <th>Unnamed: 0</th>\n",
              "      <th>Hour</th>\n",
              "      <th>HR</th>\n",
              "      <th>O2Sat</th>\n",
              "      <th>Temp</th>\n",
              "      <th>SBP</th>\n",
              "      <th>MAP</th>\n",
              "      <th>DBP</th>\n",
              "      <th>Resp</th>\n",
              "      <th>EtCO2</th>\n",
              "      <th>...</th>\n",
              "      <th>Fibrinogen</th>\n",
              "      <th>Platelets</th>\n",
              "      <th>Age</th>\n",
              "      <th>Gender</th>\n",
              "      <th>Unit1</th>\n",
              "      <th>Unit2</th>\n",
              "      <th>HospAdmTime</th>\n",
              "      <th>ICULOS</th>\n",
              "      <th>SepsisLabel</th>\n",
              "      <th>Patient_ID</th>\n",
              "    </tr>\n",
              "  </thead>\n",
              "  <tbody>\n",
              "    <tr>\n",
              "      <th>1552205</th>\n",
              "      <td>21</td>\n",
              "      <td>21</td>\n",
              "      <td>83.0</td>\n",
              "      <td>99.0</td>\n",
              "      <td>NaN</td>\n",
              "      <td>121.0</td>\n",
              "      <td>77.0</td>\n",
              "      <td>54.0</td>\n",
              "      <td>22.0</td>\n",
              "      <td>NaN</td>\n",
              "      <td>...</td>\n",
              "      <td>NaN</td>\n",
              "      <td>NaN</td>\n",
              "      <td>88.0</td>\n",
              "      <td>0</td>\n",
              "      <td>1.0</td>\n",
              "      <td>0.0</td>\n",
              "      <td>-2.93</td>\n",
              "      <td>22</td>\n",
              "      <td>0</td>\n",
              "      <td>113911</td>\n",
              "    </tr>\n",
              "    <tr>\n",
              "      <th>1552206</th>\n",
              "      <td>22</td>\n",
              "      <td>22</td>\n",
              "      <td>80.0</td>\n",
              "      <td>92.0</td>\n",
              "      <td>NaN</td>\n",
              "      <td>102.0</td>\n",
              "      <td>73.0</td>\n",
              "      <td>51.0</td>\n",
              "      <td>24.0</td>\n",
              "      <td>NaN</td>\n",
              "      <td>...</td>\n",
              "      <td>NaN</td>\n",
              "      <td>NaN</td>\n",
              "      <td>88.0</td>\n",
              "      <td>0</td>\n",
              "      <td>1.0</td>\n",
              "      <td>0.0</td>\n",
              "      <td>-2.93</td>\n",
              "      <td>23</td>\n",
              "      <td>0</td>\n",
              "      <td>113911</td>\n",
              "    </tr>\n",
              "    <tr>\n",
              "      <th>1552207</th>\n",
              "      <td>23</td>\n",
              "      <td>23</td>\n",
              "      <td>95.0</td>\n",
              "      <td>97.0</td>\n",
              "      <td>36.7</td>\n",
              "      <td>128.5</td>\n",
              "      <td>83.0</td>\n",
              "      <td>58.5</td>\n",
              "      <td>25.0</td>\n",
              "      <td>NaN</td>\n",
              "      <td>...</td>\n",
              "      <td>NaN</td>\n",
              "      <td>NaN</td>\n",
              "      <td>88.0</td>\n",
              "      <td>0</td>\n",
              "      <td>1.0</td>\n",
              "      <td>0.0</td>\n",
              "      <td>-2.93</td>\n",
              "      <td>24</td>\n",
              "      <td>0</td>\n",
              "      <td>113911</td>\n",
              "    </tr>\n",
              "    <tr>\n",
              "      <th>1552208</th>\n",
              "      <td>24</td>\n",
              "      <td>24</td>\n",
              "      <td>104.0</td>\n",
              "      <td>99.0</td>\n",
              "      <td>NaN</td>\n",
              "      <td>127.0</td>\n",
              "      <td>85.0</td>\n",
              "      <td>59.0</td>\n",
              "      <td>24.0</td>\n",
              "      <td>NaN</td>\n",
              "      <td>...</td>\n",
              "      <td>NaN</td>\n",
              "      <td>NaN</td>\n",
              "      <td>88.0</td>\n",
              "      <td>0</td>\n",
              "      <td>1.0</td>\n",
              "      <td>0.0</td>\n",
              "      <td>-2.93</td>\n",
              "      <td>25</td>\n",
              "      <td>0</td>\n",
              "      <td>113911</td>\n",
              "    </tr>\n",
              "    <tr>\n",
              "      <th>1552209</th>\n",
              "      <td>25</td>\n",
              "      <td>25</td>\n",
              "      <td>94.5</td>\n",
              "      <td>99.0</td>\n",
              "      <td>NaN</td>\n",
              "      <td>112.0</td>\n",
              "      <td>81.0</td>\n",
              "      <td>56.0</td>\n",
              "      <td>22.0</td>\n",
              "      <td>NaN</td>\n",
              "      <td>...</td>\n",
              "      <td>NaN</td>\n",
              "      <td>NaN</td>\n",
              "      <td>88.0</td>\n",
              "      <td>0</td>\n",
              "      <td>1.0</td>\n",
              "      <td>0.0</td>\n",
              "      <td>-2.93</td>\n",
              "      <td>26</td>\n",
              "      <td>0</td>\n",
              "      <td>113911</td>\n",
              "    </tr>\n",
              "  </tbody>\n",
              "</table>\n",
              "<p>5 rows × 44 columns</p>\n",
              "</div>\n",
              "    <div class=\"colab-df-buttons\">\n",
              "\n",
              "  <div class=\"colab-df-container\">\n",
              "    <button class=\"colab-df-convert\" onclick=\"convertToInteractive('df-94319990-1f8e-4a4e-81cc-e4e7e899fee5')\"\n",
              "            title=\"Convert this dataframe to an interactive table.\"\n",
              "            style=\"display:none;\">\n",
              "\n",
              "  <svg xmlns=\"http://www.w3.org/2000/svg\" height=\"24px\" viewBox=\"0 -960 960 960\">\n",
              "    <path d=\"M120-120v-720h720v720H120Zm60-500h600v-160H180v160Zm220 220h160v-160H400v160Zm0 220h160v-160H400v160ZM180-400h160v-160H180v160Zm440 0h160v-160H620v160ZM180-180h160v-160H180v160Zm440 0h160v-160H620v160Z\"/>\n",
              "  </svg>\n",
              "    </button>\n",
              "\n",
              "  <style>\n",
              "    .colab-df-container {\n",
              "      display:flex;\n",
              "      gap: 12px;\n",
              "    }\n",
              "\n",
              "    .colab-df-convert {\n",
              "      background-color: #E8F0FE;\n",
              "      border: none;\n",
              "      border-radius: 50%;\n",
              "      cursor: pointer;\n",
              "      display: none;\n",
              "      fill: #1967D2;\n",
              "      height: 32px;\n",
              "      padding: 0 0 0 0;\n",
              "      width: 32px;\n",
              "    }\n",
              "\n",
              "    .colab-df-convert:hover {\n",
              "      background-color: #E2EBFA;\n",
              "      box-shadow: 0px 1px 2px rgba(60, 64, 67, 0.3), 0px 1px 3px 1px rgba(60, 64, 67, 0.15);\n",
              "      fill: #174EA6;\n",
              "    }\n",
              "\n",
              "    .colab-df-buttons div {\n",
              "      margin-bottom: 4px;\n",
              "    }\n",
              "\n",
              "    [theme=dark] .colab-df-convert {\n",
              "      background-color: #3B4455;\n",
              "      fill: #D2E3FC;\n",
              "    }\n",
              "\n",
              "    [theme=dark] .colab-df-convert:hover {\n",
              "      background-color: #434B5C;\n",
              "      box-shadow: 0px 1px 3px 1px rgba(0, 0, 0, 0.15);\n",
              "      filter: drop-shadow(0px 1px 2px rgba(0, 0, 0, 0.3));\n",
              "      fill: #FFFFFF;\n",
              "    }\n",
              "  </style>\n",
              "\n",
              "    <script>\n",
              "      const buttonEl =\n",
              "        document.querySelector('#df-94319990-1f8e-4a4e-81cc-e4e7e899fee5 button.colab-df-convert');\n",
              "      buttonEl.style.display =\n",
              "        google.colab.kernel.accessAllowed ? 'block' : 'none';\n",
              "\n",
              "      async function convertToInteractive(key) {\n",
              "        const element = document.querySelector('#df-94319990-1f8e-4a4e-81cc-e4e7e899fee5');\n",
              "        const dataTable =\n",
              "          await google.colab.kernel.invokeFunction('convertToInteractive',\n",
              "                                                    [key], {});\n",
              "        if (!dataTable) return;\n",
              "\n",
              "        const docLinkHtml = 'Like what you see? Visit the ' +\n",
              "          '<a target=\"_blank\" href=https://colab.research.google.com/notebooks/data_table.ipynb>data table notebook</a>'\n",
              "          + ' to learn more about interactive tables.';\n",
              "        element.innerHTML = '';\n",
              "        dataTable['output_type'] = 'display_data';\n",
              "        await google.colab.output.renderOutput(dataTable, element);\n",
              "        const docLink = document.createElement('div');\n",
              "        docLink.innerHTML = docLinkHtml;\n",
              "        element.appendChild(docLink);\n",
              "      }\n",
              "    </script>\n",
              "  </div>\n",
              "\n",
              "\n",
              "<div id=\"df-07525f34-842b-41f1-9c26-5e22fd1f05e4\">\n",
              "  <button class=\"colab-df-quickchart\" onclick=\"quickchart('df-07525f34-842b-41f1-9c26-5e22fd1f05e4')\"\n",
              "            title=\"Suggest charts\"\n",
              "            style=\"display:none;\">\n",
              "\n",
              "<svg xmlns=\"http://www.w3.org/2000/svg\" height=\"24px\"viewBox=\"0 0 24 24\"\n",
              "     width=\"24px\">\n",
              "    <g>\n",
              "        <path d=\"M19 3H5c-1.1 0-2 .9-2 2v14c0 1.1.9 2 2 2h14c1.1 0 2-.9 2-2V5c0-1.1-.9-2-2-2zM9 17H7v-7h2v7zm4 0h-2V7h2v10zm4 0h-2v-4h2v4z\"/>\n",
              "    </g>\n",
              "</svg>\n",
              "  </button>\n",
              "\n",
              "<style>\n",
              "  .colab-df-quickchart {\n",
              "      --bg-color: #E8F0FE;\n",
              "      --fill-color: #1967D2;\n",
              "      --hover-bg-color: #E2EBFA;\n",
              "      --hover-fill-color: #174EA6;\n",
              "      --disabled-fill-color: #AAA;\n",
              "      --disabled-bg-color: #DDD;\n",
              "  }\n",
              "\n",
              "  [theme=dark] .colab-df-quickchart {\n",
              "      --bg-color: #3B4455;\n",
              "      --fill-color: #D2E3FC;\n",
              "      --hover-bg-color: #434B5C;\n",
              "      --hover-fill-color: #FFFFFF;\n",
              "      --disabled-bg-color: #3B4455;\n",
              "      --disabled-fill-color: #666;\n",
              "  }\n",
              "\n",
              "  .colab-df-quickchart {\n",
              "    background-color: var(--bg-color);\n",
              "    border: none;\n",
              "    border-radius: 50%;\n",
              "    cursor: pointer;\n",
              "    display: none;\n",
              "    fill: var(--fill-color);\n",
              "    height: 32px;\n",
              "    padding: 0;\n",
              "    width: 32px;\n",
              "  }\n",
              "\n",
              "  .colab-df-quickchart:hover {\n",
              "    background-color: var(--hover-bg-color);\n",
              "    box-shadow: 0 1px 2px rgba(60, 64, 67, 0.3), 0 1px 3px 1px rgba(60, 64, 67, 0.15);\n",
              "    fill: var(--button-hover-fill-color);\n",
              "  }\n",
              "\n",
              "  .colab-df-quickchart-complete:disabled,\n",
              "  .colab-df-quickchart-complete:disabled:hover {\n",
              "    background-color: var(--disabled-bg-color);\n",
              "    fill: var(--disabled-fill-color);\n",
              "    box-shadow: none;\n",
              "  }\n",
              "\n",
              "  .colab-df-spinner {\n",
              "    border: 2px solid var(--fill-color);\n",
              "    border-color: transparent;\n",
              "    border-bottom-color: var(--fill-color);\n",
              "    animation:\n",
              "      spin 1s steps(1) infinite;\n",
              "  }\n",
              "\n",
              "  @keyframes spin {\n",
              "    0% {\n",
              "      border-color: transparent;\n",
              "      border-bottom-color: var(--fill-color);\n",
              "      border-left-color: var(--fill-color);\n",
              "    }\n",
              "    20% {\n",
              "      border-color: transparent;\n",
              "      border-left-color: var(--fill-color);\n",
              "      border-top-color: var(--fill-color);\n",
              "    }\n",
              "    30% {\n",
              "      border-color: transparent;\n",
              "      border-left-color: var(--fill-color);\n",
              "      border-top-color: var(--fill-color);\n",
              "      border-right-color: var(--fill-color);\n",
              "    }\n",
              "    40% {\n",
              "      border-color: transparent;\n",
              "      border-right-color: var(--fill-color);\n",
              "      border-top-color: var(--fill-color);\n",
              "    }\n",
              "    60% {\n",
              "      border-color: transparent;\n",
              "      border-right-color: var(--fill-color);\n",
              "    }\n",
              "    80% {\n",
              "      border-color: transparent;\n",
              "      border-right-color: var(--fill-color);\n",
              "      border-bottom-color: var(--fill-color);\n",
              "    }\n",
              "    90% {\n",
              "      border-color: transparent;\n",
              "      border-bottom-color: var(--fill-color);\n",
              "    }\n",
              "  }\n",
              "</style>\n",
              "\n",
              "  <script>\n",
              "    async function quickchart(key) {\n",
              "      const quickchartButtonEl =\n",
              "        document.querySelector('#' + key + ' button');\n",
              "      quickchartButtonEl.disabled = true;  // To prevent multiple clicks.\n",
              "      quickchartButtonEl.classList.add('colab-df-spinner');\n",
              "      try {\n",
              "        const charts = await google.colab.kernel.invokeFunction(\n",
              "            'suggestCharts', [key], {});\n",
              "      } catch (error) {\n",
              "        console.error('Error during call to suggestCharts:', error);\n",
              "      }\n",
              "      quickchartButtonEl.classList.remove('colab-df-spinner');\n",
              "      quickchartButtonEl.classList.add('colab-df-quickchart-complete');\n",
              "    }\n",
              "    (() => {\n",
              "      let quickchartButtonEl =\n",
              "        document.querySelector('#df-07525f34-842b-41f1-9c26-5e22fd1f05e4 button');\n",
              "      quickchartButtonEl.style.display =\n",
              "        google.colab.kernel.accessAllowed ? 'block' : 'none';\n",
              "    })();\n",
              "  </script>\n",
              "</div>\n",
              "    </div>\n",
              "  </div>\n"
            ],
            "application/vnd.google.colaboratory.intrinsic+json": {
              "type": "dataframe"
            }
          },
          "metadata": {},
          "execution_count": 4
        }
      ]
    },
    {
      "cell_type": "code",
      "source": [
        "# display datatype of each column\n",
        "df.dtypes"
      ],
      "metadata": {
        "colab": {
          "base_uri": "https://localhost:8080/"
        },
        "id": "iFY0fSPy_V0s",
        "outputId": "8ce5740b-e59a-47a5-c240-e3d8a25a6d2f"
      },
      "execution_count": 5,
      "outputs": [
        {
          "output_type": "execute_result",
          "data": {
            "text/plain": [
              "Unnamed: 0            int64\n",
              "Hour                  int64\n",
              "HR                  float64\n",
              "O2Sat               float64\n",
              "Temp                float64\n",
              "SBP                 float64\n",
              "MAP                 float64\n",
              "DBP                 float64\n",
              "Resp                float64\n",
              "EtCO2               float64\n",
              "BaseExcess          float64\n",
              "HCO3                float64\n",
              "FiO2                float64\n",
              "pH                  float64\n",
              "PaCO2               float64\n",
              "SaO2                float64\n",
              "AST                 float64\n",
              "BUN                 float64\n",
              "Alkalinephos        float64\n",
              "Calcium             float64\n",
              "Chloride            float64\n",
              "Creatinine          float64\n",
              "Bilirubin_direct    float64\n",
              "Glucose             float64\n",
              "Lactate             float64\n",
              "Magnesium           float64\n",
              "Phosphate           float64\n",
              "Potassium           float64\n",
              "Bilirubin_total     float64\n",
              "TroponinI           float64\n",
              "Hct                 float64\n",
              "Hgb                 float64\n",
              "PTT                 float64\n",
              "WBC                 float64\n",
              "Fibrinogen          float64\n",
              "Platelets           float64\n",
              "Age                 float64\n",
              "Gender                int64\n",
              "Unit1               float64\n",
              "Unit2               float64\n",
              "HospAdmTime         float64\n",
              "ICULOS                int64\n",
              "SepsisLabel           int64\n",
              "Patient_ID            int64\n",
              "dtype: object"
            ]
          },
          "metadata": {},
          "execution_count": 5
        }
      ]
    },
    {
      "cell_type": "markdown",
      "source": [
        "Measurement Description\n",
        "1) HR Heart rate (beats per minute) .\n",
        "2) O2Sat Pulse oximetry (%) .\n",
        "3) Temp Temperature (deg C) .\n",
        "4) SBP Systolic BP (mm Hg) .\n",
        "5) MAP Mean arterial pressure (mm Hg) .\n",
        "6) DBP Diastolic BP (mm Hg) .\n",
        "7) Resp Respiration rate (breaths per minute) .\n",
        "8) EtCO2 End tidal carbon dioxide (mm Hg) .\n",
        "9) BaseExcess Excess bicarbonate (mmol/L) .\n",
        "10) HCO3 Bicarbonate (mmol/L) .\n",
        "11) FiO2 Fraction of inspired oxygen (%) .\n",
        "12) pH pH .\n",
        "13) PaCO2 Partial pressure of carbon dioxide from arterial blood (mm Hg) .\n",
        "14) SaO2 Oxygen saturation from arterial blood (%) .\n",
        "15) AST Aspartate transaminase (IU/L) .\n",
        "16) BUN Blood urea nitrogen (mg/dL) .\n",
        "17) Alkalinephos Alkaline phosphatase (IU/L) .\n",
        "18) Calcium Calcium (mg/dL) .\n",
        "19) Chloride Chloride (mmol/L) .\n",
        "20) Creatinine Creatinine (mg/dL) .\n",
        "21) Bilirubin direct Direct bilirubin (mg/dL) .\n",
        "22) Glucose Serum glucose (mg/dL) .\n",
        "23) Lactate Lactic acid (mg/dL) .\n",
        "24) Magnesium Magnesium (mmol/dL) .\n",
        "25) Phosphate Phosphate (mg/dL) .\n",
        "26) Potassium Potassiam (mmol/L) .\n",
        "27) Bilirubin total Total bilirubin (mg/dL) .\n",
        "28) TroponinI Troponin I (ng/mL) .\n",
        "29) Hct Hematocrit (%) .\n",
        "30) Hgb Hemoglobin (g/dL) .\n",
        "31) PTT Partial thromboplastin time (seconds) .\n",
        "32) WBC Leukocyte count (count/L) .\n",
        "33) Fibrinogen Fibrinogen concentration (mg/dL) .\n",
        "34) Platelets Platelet count (count/mL) .\n",
        "35) Age Age (years) .\n",
        "36) Gender Female (0) or male (1) .\n",
        "37) Unit1 Administrative identifier for ICU unit (MICU); false (0) or true (1) .\n",
        "38) Unit2 Administrative identifier for ICU unit (SICU); false (0) or true (1) .\n",
        "39) HospAdmTime Time between hospital and ICU admission (hours since ICU admission) .\n",
        "40) ICULOS ICU length of stay (hours since ICU admission) .\n",
        "41) SepsisLabel For septic patients, SepsisLabel is 1 if t ≥ tsepsis −6 and 0 if t < tsepsis −6.\n",
        "For non-septic patients, SepsisLabel is 0.\n"
      ],
      "metadata": {
        "id": "CucERPnl_p__"
      }
    },
    {
      "cell_type": "code",
      "source": [
        "df.shape"
      ],
      "metadata": {
        "colab": {
          "base_uri": "https://localhost:8080/"
        },
        "id": "ESwVK-84BKcv",
        "outputId": "79fc6fbd-e62e-4c87-de28-ecfb22b876d7"
      },
      "execution_count": 6,
      "outputs": [
        {
          "output_type": "execute_result",
          "data": {
            "text/plain": [
              "(1552210, 44)"
            ]
          },
          "metadata": {},
          "execution_count": 6
        }
      ]
    },
    {
      "cell_type": "code",
      "source": [
        "# Analysis of missing values in the dataset\n",
        "round(100*(df.isnull().sum()/len(df.index)),2).plot.bar(figsize=(15,5))"
      ],
      "metadata": {
        "colab": {
          "base_uri": "https://localhost:8080/",
          "height": 553
        },
        "id": "RnUB5-RMBeDW",
        "outputId": "d4269353-3d14-4fdf-ee1a-6755039c654a"
      },
      "execution_count": 7,
      "outputs": [
        {
          "output_type": "execute_result",
          "data": {
            "text/plain": [
              "<Axes: >"
            ]
          },
          "metadata": {},
          "execution_count": 7
        },
        {
          "output_type": "display_data",
          "data": {
            "text/plain": [
              "<Figure size 1500x500 with 1 Axes>"
            ],
            "image/png": "[encoded data removed]"
          },
          "metadata": {}
        }
      ]
    },
    {
      "cell_type": "markdown",
      "source": [
        "For all lab values , more than 80% of data are missing"
      ],
      "metadata": {
        "id": "d1Hf_WWABvLc"
      }
    },
    {
      "cell_type": "markdown",
      "source": [
        "Divide patients to 3 types -\n",
        " NonSepsis, SepsisAfterAdm , SepsisBeforeAdm"
      ],
      "metadata": {
        "id": "Vhj4ubSvB0xf"
      }
    },
    {
      "cell_type": "code",
      "source": [
        "# get the list of patients who have sepsis\n",
        "septic_shock_patients=df['Patient_ID'][df['SepsisLabel']==1].unique()"
      ],
      "metadata": {
        "id": "P4VqEIYWBrcZ"
      },
      "execution_count": 8,
      "outputs": []
    },
    {
      "cell_type": "code",
      "source": [
        "# construct dataframe of patients with sepsis alone\n",
        "septic_df=df[df.Patient_ID.isin(septic_shock_patients)]"
      ],
      "metadata": {
        "id": "RfFRXRtKB80Y"
      },
      "execution_count": 9,
      "outputs": []
    },
    {
      "cell_type": "code",
      "source": [
        "# get the list of patients who have sepsis before admission to ICU\n",
        "admitted_with_sepsis_patients=df['Patient_ID'][(df['SepsisLabel']==1) & (df['Hour']==0)]"
      ],
      "metadata": {
        "id": "hJ2CrMeOCBQi"
      },
      "execution_count": 10,
      "outputs": []
    },
    {
      "cell_type": "code",
      "source": [
        "# construct dataframe of patients who have sepsis before admission to ICU\n",
        "admitted_with_sepsis_df=df[df.Patient_ID.isin(admitted_with_sepsis_patients)]"
      ],
      "metadata": {
        "id": "OUZUXsZzCFQf"
      },
      "execution_count": 11,
      "outputs": []
    },
    {
      "cell_type": "code",
      "source": [
        "# construct dataframe of patients who have sepsis after admission to ICU\n",
        "sepsis_after_adm_df=septic_df.merge(admitted_with_sepsis_df, how = 'outer' ,indicator=True).loc[lambda x : x['_merge']=='left_only']"
      ],
      "metadata": {
        "id": "wrVwlGvaCOJO"
      },
      "execution_count": 12,
      "outputs": []
    },
    {
      "cell_type": "code",
      "source": [
        "# construct dataframe of patients who have no sepsis\n",
        "non_septic_df = df.merge(septic_df, how = 'outer' ,indicator=True).loc[lambda x : x['_merge']=='left_only']"
      ],
      "metadata": {
        "id": "ULiVGNVGCS1z"
      },
      "execution_count": 13,
      "outputs": []
    },
    {
      "cell_type": "code",
      "source": [
        "# add a new column sepsisType in dataframe with value null\n",
        "df['sepsisType']=np.nan"
      ],
      "metadata": {
        "id": "YwDWv81QCcx8"
      },
      "execution_count": 14,
      "outputs": []
    },
    {
      "cell_type": "code",
      "source": [
        "# update sepsisType to SepsisBeforeAdm for patients who were admitted to ICU with sepsis\n",
        "df.loc[df.Patient_ID.isin(admitted_with_sepsis_patients), 'sepsisType'] = 'SepsisBeforeAdm'"
      ],
      "metadata": {
        "id": "abPRIbYeChUj"
      },
      "execution_count": 15,
      "outputs": []
    },
    {
      "cell_type": "code",
      "source": [
        "# update sepsisType to SepsisAfterAdm for patients who contracted sepsis after admission to ICU\n",
        "df.loc[df.Patient_ID.isin(septic_shock_patients) & df['sepsisType'].isnull(), 'sepsisType'] = 'SepsisAfterAdm'"
      ],
      "metadata": {
        "id": "YZCGgK-YCl5z"
      },
      "execution_count": 16,
      "outputs": []
    },
    {
      "cell_type": "code",
      "source": [
        "# update sepsisType to NonSepsis for patients who never got Sepsis\n",
        "df.loc[df['sepsisType'].isnull(), 'sepsisType'] = 'NonSepsis'"
      ],
      "metadata": {
        "id": "h8Ri3yBrCp4R"
      },
      "execution_count": 17,
      "outputs": []
    },
    {
      "cell_type": "code",
      "source": [
        "df['sepsisType'].value_counts()"
      ],
      "metadata": {
        "colab": {
          "base_uri": "https://localhost:8080/"
        },
        "id": "SKDzb2IeCszi",
        "outputId": "0b1718ee-99b7-4092-ac93-903a5e3252b8"
      },
      "execution_count": 18,
      "outputs": [
        {
          "output_type": "execute_result",
          "data": {
            "text/plain": [
              "sepsisType\n",
              "NonSepsis          1379800\n",
              "SepsisAfterAdm      168764\n",
              "SepsisBeforeAdm       3646\n",
              "Name: count, dtype: int64"
            ]
          },
          "metadata": {},
          "execution_count": 18
        }
      ]
    },
    {
      "cell_type": "code",
      "source": [
        "df['sepsisType'].value_counts().plot.bar()\n"
      ],
      "metadata": {
        "colab": {
          "base_uri": "https://localhost:8080/",
          "height": 590
        },
        "id": "8pTeCEzaCze4",
        "outputId": "a3442533-9e24-4d71-ff2c-db2401da290c"
      },
      "execution_count": 19,
      "outputs": [
        {
          "output_type": "execute_result",
          "data": {
            "text/plain": [
              "<Axes: xlabel='sepsisType'>"
            ]
          },
          "metadata": {},
          "execution_count": 19
        },
        {
          "output_type": "display_data",
          "data": {
            "text/plain": [
              "<Figure size 640x480 with 1 Axes>"
            ],
            "image/png": "[encoded data removed]"
          },
          "metadata": {}
        }
      ]
    },
    {
      "cell_type": "code",
      "source": [
        "df.head()"
      ],
      "metadata": {
        "colab": {
          "base_uri": "https://localhost:8080/",
          "height": 272
        },
        "id": "kEHovrcMC5K9",
        "outputId": "3f4386de-f2d6-46ec-f4b1-a7b83a1a78b5"
      },
      "execution_count": 20,
      "outputs": [
        {
          "output_type": "execute_result",
          "data": {
            "text/plain": [
              "   Unnamed: 0  Hour    HR  O2Sat  Temp    SBP   MAP   DBP  Resp  EtCO2  ...  \\\n",
              "0           0     0   NaN    NaN   NaN    NaN   NaN   NaN   NaN    NaN  ...   \n",
              "1           1     1  65.0  100.0   NaN    NaN  72.0   NaN  16.5    NaN  ...   \n",
              "2           2     2  78.0  100.0   NaN    NaN  42.5   NaN   NaN    NaN  ...   \n",
              "3           3     3  73.0  100.0   NaN    NaN   NaN   NaN  17.0    NaN  ...   \n",
              "4           4     4  70.0  100.0   NaN  129.0  74.0  69.0  14.0    NaN  ...   \n",
              "\n",
              "   Platelets    Age  Gender  Unit1  Unit2  HospAdmTime  ICULOS  SepsisLabel  \\\n",
              "0        NaN  68.54       0    NaN    NaN        -0.02       1            0   \n",
              "1        NaN  68.54       0    NaN    NaN        -0.02       2            0   \n",
              "2        NaN  68.54       0    NaN    NaN        -0.02       3            0   \n",
              "3        NaN  68.54       0    NaN    NaN        -0.02       4            0   \n",
              "4      330.0  68.54       0    NaN    NaN        -0.02       5            0   \n",
              "\n",
              "   Patient_ID  sepsisType  \n",
              "0       17072   NonSepsis  \n",
              "1       17072   NonSepsis  \n",
              "2       17072   NonSepsis  \n",
              "3       17072   NonSepsis  \n",
              "4       17072   NonSepsis  \n",
              "\n",
              "[5 rows x 45 columns]"
            ],
            "text/html": [
              "\n",
              "  <div id=\"df-190f7442-22a0-4263-8a07-a19ad44cbe57\" class=\"colab-df-container\">\n",
              "    <div>\n",
              "<style scoped>\n",
              "    .dataframe tbody tr th:only-of-type {\n",
              "        vertical-align: middle;\n",
              "    }\n",
              "\n",
              "    .dataframe tbody tr th {\n",
              "        vertical-align: top;\n",
              "    }\n",
              "\n",
              "    .dataframe thead th {\n",
              "        text-align: right;\n",
              "    }\n",
              "</style>\n",
              "<table border=\"1\" class=\"dataframe\">\n",
              "  <thead>\n",
              "    <tr style=\"text-align: right;\">\n",
              "      <th></th>\n",
              "      <th>Unnamed: 0</th>\n",
              "      <th>Hour</th>\n",
              "      <th>HR</th>\n",
              "      <th>O2Sat</th>\n",
              "      <th>Temp</th>\n",
              "      <th>SBP</th>\n",
              "      <th>MAP</th>\n",
              "      <th>DBP</th>\n",
              "      <th>Resp</th>\n",
              "      <th>EtCO2</th>\n",
              "      <th>...</th>\n",
              "      <th>Platelets</th>\n",
              "      <th>Age</th>\n",
              "      <th>Gender</th>\n",
              "      <th>Unit1</th>\n",
              "      <th>Unit2</th>\n",
              "      <th>HospAdmTime</th>\n",
              "      <th>ICULOS</th>\n",
              "      <th>SepsisLabel</th>\n",
              "      <th>Patient_ID</th>\n",
              "      <th>sepsisType</th>\n",
              "    </tr>\n",
              "  </thead>\n",
              "  <tbody>\n",
              "    <tr>\n",
              "      <th>0</th>\n",
              "      <td>0</td>\n",
              "      <td>0</td>\n",
              "      <td>NaN</td>\n",
              "      <td>NaN</td>\n",
              "      <td>NaN</td>\n",
              "      <td>NaN</td>\n",
              "      <td>NaN</td>\n",
              "      <td>NaN</td>\n",
              "      <td>NaN</td>\n",
              "      <td>NaN</td>\n",
              "      <td>...</td>\n",
              "      <td>NaN</td>\n",
              "      <td>68.54</td>\n",
              "      <td>0</td>\n",
              "      <td>NaN</td>\n",
              "      <td>NaN</td>\n",
              "      <td>-0.02</td>\n",
              "      <td>1</td>\n",
              "      <td>0</td>\n",
              "      <td>17072</td>\n",
              "      <td>NonSepsis</td>\n",
              "    </tr>\n",
              "    <tr>\n",
              "      <th>1</th>\n",
              "      <td>1</td>\n",
              "      <td>1</td>\n",
              "      <td>65.0</td>\n",
              "      <td>100.0</td>\n",
              "      <td>NaN</td>\n",
              "      <td>NaN</td>\n",
              "      <td>72.0</td>\n",
              "      <td>NaN</td>\n",
              "      <td>16.5</td>\n",
              "      <td>NaN</td>\n",
              "      <td>...</td>\n",
              "      <td>NaN</td>\n",
              "      <td>68.54</td>\n",
              "      <td>0</td>\n",
              "      <td>NaN</td>\n",
              "      <td>NaN</td>\n",
              "      <td>-0.02</td>\n",
              "      <td>2</td>\n",
              "      <td>0</td>\n",
              "      <td>17072</td>\n",
              "      <td>NonSepsis</td>\n",
              "    </tr>\n",
              "    <tr>\n",
              "      <th>2</th>\n",
              "      <td>2</td>\n",
              "      <td>2</td>\n",
              "      <td>78.0</td>\n",
              "      <td>100.0</td>\n",
              "      <td>NaN</td>\n",
              "      <td>NaN</td>\n",
              "      <td>42.5</td>\n",
              "      <td>NaN</td>\n",
              "      <td>NaN</td>\n",
              "      <td>NaN</td>\n",
              "      <td>...</td>\n",
              "      <td>NaN</td>\n",
              "      <td>68.54</td>\n",
              "      <td>0</td>\n",
              "      <td>NaN</td>\n",
              "      <td>NaN</td>\n",
              "      <td>-0.02</td>\n",
              "      <td>3</td>\n",
              "      <td>0</td>\n",
              "      <td>17072</td>\n",
              "      <td>NonSepsis</td>\n",
              "    </tr>\n",
              "    <tr>\n",
              "      <th>3</th>\n",
              "      <td>3</td>\n",
              "      <td>3</td>\n",
              "      <td>73.0</td>\n",
              "      <td>100.0</td>\n",
              "      <td>NaN</td>\n",
              "      <td>NaN</td>\n",
              "      <td>NaN</td>\n",
              "      <td>NaN</td>\n",
              "      <td>17.0</td>\n",
              "      <td>NaN</td>\n",
              "      <td>...</td>\n",
              "      <td>NaN</td>\n",
              "      <td>68.54</td>\n",
              "      <td>0</td>\n",
              "      <td>NaN</td>\n",
              "      <td>NaN</td>\n",
              "      <td>-0.02</td>\n",
              "      <td>4</td>\n",
              "      <td>0</td>\n",
              "      <td>17072</td>\n",
              "      <td>NonSepsis</td>\n",
              "    </tr>\n",
              "    <tr>\n",
              "      <th>4</th>\n",
              "      <td>4</td>\n",
              "      <td>4</td>\n",
              "      <td>70.0</td>\n",
              "      <td>100.0</td>\n",
              "      <td>NaN</td>\n",
              "      <td>129.0</td>\n",
              "      <td>74.0</td>\n",
              "      <td>69.0</td>\n",
              "      <td>14.0</td>\n",
              "      <td>NaN</td>\n",
              "      <td>...</td>\n",
              "      <td>330.0</td>\n",
              "      <td>68.54</td>\n",
              "      <td>0</td>\n",
              "      <td>NaN</td>\n",
              "      <td>NaN</td>\n",
              "      <td>-0.02</td>\n",
              "      <td>5</td>\n",
              "      <td>0</td>\n",
              "      <td>17072</td>\n",
              "      <td>NonSepsis</td>\n",
              "    </tr>\n",
              "  </tbody>\n",
              "</table>\n",
              "<p>5 rows × 45 columns</p>\n",
              "</div>\n",
              "    <div class=\"colab-df-buttons\">\n",
              "\n",
              "  <div class=\"colab-df-container\">\n",
              "    <button class=\"colab-df-convert\" onclick=\"convertToInteractive('df-190f7442-22a0-4263-8a07-a19ad44cbe57')\"\n",
              "            title=\"Convert this dataframe to an interactive table.\"\n",
              "            style=\"display:none;\">\n",
              "\n",
              "  <svg xmlns=\"http://www.w3.org/2000/svg\" height=\"24px\" viewBox=\"0 -960 960 960\">\n",
              "    <path d=\"M120-120v-720h720v720H120Zm60-500h600v-160H180v160Zm220 220h160v-160H400v160Zm0 220h160v-160H400v160ZM180-400h160v-160H180v160Zm440 0h160v-160H620v160ZM180-180h160v-160H180v160Zm440 0h160v-160H620v160Z\"/>\n",
              "  </svg>\n",
              "    </button>\n",
              "\n",
              "  <style>\n",
              "    .colab-df-container {\n",
              "      display:flex;\n",
              "      gap: 12px;\n",
              "    }\n",
              "\n",
              "    .colab-df-convert {\n",
              "      background-color: #E8F0FE;\n",
              "      border: none;\n",
              "      border-radius: 50%;\n",
              "      cursor: pointer;\n",
              "      display: none;\n",
              "      fill: #1967D2;\n",
              "      height: 32px;\n",
              "      padding: 0 0 0 0;\n",
              "      width: 32px;\n",
              "    }\n",
              "\n",
              "    .colab-df-convert:hover {\n",
              "      background-color: #E2EBFA;\n",
              "      box-shadow: 0px 1px 2px rgba(60, 64, 67, 0.3), 0px 1px 3px 1px rgba(60, 64, 67, 0.15);\n",
              "      fill: #174EA6;\n",
              "    }\n",
              "\n",
              "    .colab-df-buttons div {\n",
              "      margin-bottom: 4px;\n",
              "    }\n",
              "\n",
              "    [theme=dark] .colab-df-convert {\n",
              "      background-color: #3B4455;\n",
              "      fill: #D2E3FC;\n",
              "    }\n",
              "\n",
              "    [theme=dark] .colab-df-convert:hover {\n",
              "      background-color: #434B5C;\n",
              "      box-shadow: 0px 1px 3px 1px rgba(0, 0, 0, 0.15);\n",
              "      filter: drop-shadow(0px 1px 2px rgba(0, 0, 0, 0.3));\n",
              "      fill: #FFFFFF;\n",
              "    }\n",
              "  </style>\n",
              "\n",
              "    <script>\n",
              "      const buttonEl =\n",
              "        document.querySelector('#df-190f7442-22a0-4263-8a07-a19ad44cbe57 button.colab-df-convert');\n",
              "      buttonEl.style.display =\n",
              "        google.colab.kernel.accessAllowed ? 'block' : 'none';\n",
              "\n",
              "      async function convertToInteractive(key) {\n",
              "        const element = document.querySelector('#df-190f7442-22a0-4263-8a07-a19ad44cbe57');\n",
              "        const dataTable =\n",
              "          await google.colab.kernel.invokeFunction('convertToInteractive',\n",
              "                                                    [key], {});\n",
              "        if (!dataTable) return;\n",
              "\n",
              "        const docLinkHtml = 'Like what you see? Visit the ' +\n",
              "          '<a target=\"_blank\" href=https://colab.research.google.com/notebooks/data_table.ipynb>data table notebook</a>'\n",
              "          + ' to learn more about interactive tables.';\n",
              "        element.innerHTML = '';\n",
              "        dataTable['output_type'] = 'display_data';\n",
              "        await google.colab.output.renderOutput(dataTable, element);\n",
              "        const docLink = document.createElement('div');\n",
              "        docLink.innerHTML = docLinkHtml;\n",
              "        element.appendChild(docLink);\n",
              "      }\n",
              "    </script>\n",
              "  </div>\n",
              "\n",
              "\n",
              "<div id=\"df-bd9ba20d-0f3d-453b-ba7a-bcd31a0a5628\">\n",
              "  <button class=\"colab-df-quickchart\" onclick=\"quickchart('df-bd9ba20d-0f3d-453b-ba7a-bcd31a0a5628')\"\n",
              "            title=\"Suggest charts\"\n",
              "            style=\"display:none;\">\n",
              "\n",
              "<svg xmlns=\"http://www.w3.org/2000/svg\" height=\"24px\"viewBox=\"0 0 24 24\"\n",
              "     width=\"24px\">\n",
              "    <g>\n",
              "        <path d=\"M19 3H5c-1.1 0-2 .9-2 2v14c0 1.1.9 2 2 2h14c1.1 0 2-.9 2-2V5c0-1.1-.9-2-2-2zM9 17H7v-7h2v7zm4 0h-2V7h2v10zm4 0h-2v-4h2v4z\"/>\n",
              "    </g>\n",
              "</svg>\n",
              "  </button>\n",
              "\n",
              "<style>\n",
              "  .colab-df-quickchart {\n",
              "      --bg-color: #E8F0FE;\n",
              "      --fill-color: #1967D2;\n",
              "      --hover-bg-color: #E2EBFA;\n",
              "      --hover-fill-color: #174EA6;\n",
              "      --disabled-fill-color: #AAA;\n",
              "      --disabled-bg-color: #DDD;\n",
              "  }\n",
              "\n",
              "  [theme=dark] .colab-df-quickchart {\n",
              "      --bg-color: #3B4455;\n",
              "      --fill-color: #D2E3FC;\n",
              "      --hover-bg-color: #434B5C;\n",
              "      --hover-fill-color: #FFFFFF;\n",
              "      --disabled-bg-color: #3B4455;\n",
              "      --disabled-fill-color: #666;\n",
              "  }\n",
              "\n",
              "  .colab-df-quickchart {\n",
              "    background-color: var(--bg-color);\n",
              "    border: none;\n",
              "    border-radius: 50%;\n",
              "    cursor: pointer;\n",
              "    display: none;\n",
              "    fill: var(--fill-color);\n",
              "    height: 32px;\n",
              "    padding: 0;\n",
              "    width: 32px;\n",
              "  }\n",
              "\n",
              "  .colab-df-quickchart:hover {\n",
              "    background-color: var(--hover-bg-color);\n",
              "    box-shadow: 0 1px 2px rgba(60, 64, 67, 0.3), 0 1px 3px 1px rgba(60, 64, 67, 0.15);\n",
              "    fill: var(--button-hover-fill-color);\n",
              "  }\n",
              "\n",
              "  .colab-df-quickchart-complete:disabled,\n",
              "  .colab-df-quickchart-complete:disabled:hover {\n",
              "    background-color: var(--disabled-bg-color);\n",
              "    fill: var(--disabled-fill-color);\n",
              "    box-shadow: none;\n",
              "  }\n",
              "\n",
              "  .colab-df-spinner {\n",
              "    border: 2px solid var(--fill-color);\n",
              "    border-color: transparent;\n",
              "    border-bottom-color: var(--fill-color);\n",
              "    animation:\n",
              "      spin 1s steps(1) infinite;\n",
              "  }\n",
              "\n",
              "  @keyframes spin {\n",
              "    0% {\n",
              "      border-color: transparent;\n",
              "      border-bottom-color: var(--fill-color);\n",
              "      border-left-color: var(--fill-color);\n",
              "    }\n",
              "    20% {\n",
              "      border-color: transparent;\n",
              "      border-left-color: var(--fill-color);\n",
              "      border-top-color: var(--fill-color);\n",
              "    }\n",
              "    30% {\n",
              "      border-color: transparent;\n",
              "      border-left-color: var(--fill-color);\n",
              "      border-top-color: var(--fill-color);\n",
              "      border-right-color: var(--fill-color);\n",
              "    }\n",
              "    40% {\n",
              "      border-color: transparent;\n",
              "      border-right-color: var(--fill-color);\n",
              "      border-top-color: var(--fill-color);\n",
              "    }\n",
              "    60% {\n",
              "      border-color: transparent;\n",
              "      border-right-color: var(--fill-color);\n",
              "    }\n",
              "    80% {\n",
              "      border-color: transparent;\n",
              "      border-right-color: var(--fill-color);\n",
              "      border-bottom-color: var(--fill-color);\n",
              "    }\n",
              "    90% {\n",
              "      border-color: transparent;\n",
              "      border-bottom-color: var(--fill-color);\n",
              "    }\n",
              "  }\n",
              "</style>\n",
              "\n",
              "  <script>\n",
              "    async function quickchart(key) {\n",
              "      const quickchartButtonEl =\n",
              "        document.querySelector('#' + key + ' button');\n",
              "      quickchartButtonEl.disabled = true;  // To prevent multiple clicks.\n",
              "      quickchartButtonEl.classList.add('colab-df-spinner');\n",
              "      try {\n",
              "        const charts = await google.colab.kernel.invokeFunction(\n",
              "            'suggestCharts', [key], {});\n",
              "      } catch (error) {\n",
              "        console.error('Error during call to suggestCharts:', error);\n",
              "      }\n",
              "      quickchartButtonEl.classList.remove('colab-df-spinner');\n",
              "      quickchartButtonEl.classList.add('colab-df-quickchart-complete');\n",
              "    }\n",
              "    (() => {\n",
              "      let quickchartButtonEl =\n",
              "        document.querySelector('#df-bd9ba20d-0f3d-453b-ba7a-bcd31a0a5628 button');\n",
              "      quickchartButtonEl.style.display =\n",
              "        google.colab.kernel.accessAllowed ? 'block' : 'none';\n",
              "    })();\n",
              "  </script>\n",
              "</div>\n",
              "    </div>\n",
              "  </div>\n"
            ],
            "application/vnd.google.colaboratory.intrinsic+json": {
              "type": "dataframe",
              "variable_name": "df"
            }
          },
          "metadata": {},
          "execution_count": 20
        }
      ]
    },
    {
      "cell_type": "code",
      "source": [
        "print(\"Age distribution:\")\n",
        "print(df['Age'].value_counts(), \"\\n\")\n",
        "\n",
        "# Distribution plot of age\n",
        "sns.histplot(df['Age'], stat='count', bins=50, kde=True)\n",
        "plt.show()"
      ],
      "metadata": {
        "colab": {
          "base_uri": "https://localhost:8080/",
          "height": 721
        },
        "id": "1Xy2mG4_HcZz",
        "outputId": "1867b3c7-50fd-4f73-bacf-fd56dc4c33c5"
      },
      "execution_count": 21,
      "outputs": [
        {
          "output_type": "stream",
          "name": "stdout",
          "text": [
            "Age distribution:\n",
            "Age\n",
            "67.00    22188\n",
            "68.00    21752\n",
            "65.00    20587\n",
            "71.00    20543\n",
            "66.00    20029\n",
            "         ...  \n",
            "43.21        8\n",
            "20.18        8\n",
            "44.85        8\n",
            "40.26        8\n",
            "44.06        8\n",
            "Name: count, Length: 5987, dtype: int64 \n",
            "\n"
          ]
        },
        {
          "output_type": "display_data",
          "data": {
            "text/plain": [
              "<Figure size 640x480 with 1 Axes>"
            ],
            "image/png": "[encoded data removed]"
          },
          "metadata": {}
        }
      ]
    },
    {
      "cell_type": "code",
      "source": [
        "#total no:of patients\n",
        "len(pd.unique(df['Patient_ID']))"
      ],
      "metadata": {
        "colab": {
          "base_uri": "https://localhost:8080/"
        },
        "id": "lLXc3fOLC-lV",
        "outputId": "98b916d9-e013-47e3-cc8e-fd5890988d16"
      },
      "execution_count": 22,
      "outputs": [
        {
          "output_type": "execute_result",
          "data": {
            "text/plain": [
              "40336"
            ]
          },
          "metadata": {},
          "execution_count": 22
        }
      ]
    },
    {
      "cell_type": "code",
      "source": [
        "#total number of septic patients whose are sepsis after admission\n",
        "len(pd.unique(sepsis_after_adm_df['Patient_ID']))\n",
        "\n",
        "len(pd.unique(non_septic_df['Patient_ID']))"
      ],
      "metadata": {
        "colab": {
          "base_uri": "https://localhost:8080/"
        },
        "id": "MqbtH6B6DD9D",
        "outputId": "27b8c811-8605-4397-d7f7-eef7c268b61b"
      },
      "execution_count": 23,
      "outputs": [
        {
          "output_type": "execute_result",
          "data": {
            "text/plain": [
              "37404"
            ]
          },
          "metadata": {},
          "execution_count": 23
        }
      ]
    },
    {
      "cell_type": "code",
      "source": [
        "#total no:of septic patients\n",
        "len(pd.unique(septic_df['Patient_ID']))"
      ],
      "metadata": {
        "colab": {
          "base_uri": "https://localhost:8080/"
        },
        "id": "xzowdAezDKdN",
        "outputId": "7aa5a533-c693-46bc-9e00-44f86ff80d1e"
      },
      "execution_count": 24,
      "outputs": [
        {
          "output_type": "execute_result",
          "data": {
            "text/plain": [
              "2932"
            ]
          },
          "metadata": {},
          "execution_count": 24
        }
      ]
    },
    {
      "cell_type": "code",
      "source": [
        "#total number of septic patients whose are sepsis before admission\n",
        "len(pd.unique(admitted_with_sepsis_df['Patient_ID']))"
      ],
      "metadata": {
        "colab": {
          "base_uri": "https://localhost:8080/"
        },
        "id": "9sfdBI3ZDPPx",
        "outputId": "76897667-35f6-4df6-f60c-fa9149852620"
      },
      "execution_count": 25,
      "outputs": [
        {
          "output_type": "execute_result",
          "data": {
            "text/plain": [
              "426"
            ]
          },
          "metadata": {},
          "execution_count": 25
        }
      ]
    },
    {
      "cell_type": "markdown",
      "source": [
        "Calculation of SIRS Score\n"
      ],
      "metadata": {
        "id": "ft7CgS6SnQd1"
      }
    },
    {
      "cell_type": "markdown",
      "source": [
        "SIRS - Systemic Inflammatory Response Syndrome"
      ],
      "metadata": {
        "id": "pSnYjcXCnWuW"
      }
    },
    {
      "cell_type": "markdown",
      "source": [
        "https://www.mdcalc.com/calc/1096/sirs-sepsis-septic-shock-criteria ( use this link to check the criteria for SIRS score calculation)"
      ],
      "metadata": {
        "id": "bVv1t7wInguO"
      }
    },
    {
      "cell_type": "markdown",
      "source": [
        "SIRS with a suspected source of infection is termed sepsis. Confirmation of infection with positive cultures is therefore not mandatory, at least in the early stages. Sepsis with one or more end-organ failures is called severe sepsis, and hemodynamic instability despite intravascular volume repletion is called septic shock"
      ],
      "metadata": {
        "id": "subc3FkTnp3I"
      }
    },
    {
      "cell_type": "markdown",
      "source": [
        "The SIRS criteria include abnormalities in body temperature, heart rate, respiratory rate, and white blood cell count. An increase in the SIRS score typically indicates a greater degree of systemic inflammation, which can be indicative of worsening sepsis. However, it's important to note that the SIRS criteria alone are not enough to diagnose sepsis definitively; they are just one component of the clinical assessment."
      ],
      "metadata": {
        "id": "kcnY8_Enoh0k"
      }
    },
    {
      "cell_type": "code",
      "source": [
        "condition=(np.isnan(df['Temp'])& np.isnan(df['HR'])& np.isnan(df['Resp']) &np.isnan(df['WBC']))"
      ],
      "metadata": {
        "id": "5j6tRNDEnPmX"
      },
      "execution_count": 26,
      "outputs": []
    },
    {
      "cell_type": "code",
      "source": [
        "df['hasSIRS'] = np.where(condition, 1, 0)"
      ],
      "metadata": {
        "id": "3oMEZCfBo4GC"
      },
      "execution_count": 27,
      "outputs": []
    },
    {
      "cell_type": "code",
      "source": [
        "df['hasSIRS'].value_counts()"
      ],
      "metadata": {
        "id": "jLjXnpK6D9Jk",
        "colab": {
          "base_uri": "https://localhost:8080/"
        },
        "outputId": "e11b4acc-1a34-480d-8948-cb3340d61e9e"
      },
      "execution_count": 28,
      "outputs": [
        {
          "output_type": "execute_result",
          "data": {
            "text/plain": [
              "hasSIRS\n",
              "0    1408039\n",
              "1     144171\n",
              "Name: count, dtype: int64"
            ]
          },
          "metadata": {},
          "execution_count": 28
        }
      ]
    },
    {
      "cell_type": "code",
      "source": [
        "condition_temp=(df['Temp']>38) |( df['Temp']<36)\n",
        "condition_HR=(df['HR']>90)\n",
        "condition_Resp=(df['Resp']>20) |( df['PaCO2']<32)\n",
        "condition_wbc=(df['WBC']>12000) |( df['WBC']<4000)"
      ],
      "metadata": {
        "id": "wd04PXt2p8_t"
      },
      "execution_count": 29,
      "outputs": []
    },
    {
      "cell_type": "code",
      "source": [
        "df['SIRS_Score']=np.where(condition_temp, 1, 0)+np.where(condition_HR, 1, 0)+np.where(condition_Resp, 1, 0)+np.where(condition_wbc, 1, 0)"
      ],
      "metadata": {
        "id": "U_7hk3jDqO_h"
      },
      "execution_count": 30,
      "outputs": []
    },
    {
      "cell_type": "code",
      "source": [
        "df['SIRS_Score'].value_counts()"
      ],
      "metadata": {
        "colab": {
          "base_uri": "https://localhost:8080/"
        },
        "id": "ayeVYA6mqU1e",
        "outputId": "6a00e5e5-8d1e-4630-cf1e-71256e0bb4c9"
      },
      "execution_count": 31,
      "outputs": [
        {
          "output_type": "execute_result",
          "data": {
            "text/plain": [
              "SIRS_Score\n",
              "0    770512\n",
              "1    532866\n",
              "2    221739\n",
              "3     26056\n",
              "4      1037\n",
              "Name: count, dtype: int64"
            ]
          },
          "metadata": {},
          "execution_count": 31
        }
      ]
    },
    {
      "cell_type": "code",
      "source": [
        "df['SIRS_Score'].value_counts().plot.bar()"
      ],
      "metadata": {
        "colab": {
          "base_uri": "https://localhost:8080/",
          "height": 464
        },
        "id": "rnSlh78Hqe1L",
        "outputId": "3c83472d-bbaa-4ee0-dc89-5114fe499654"
      },
      "execution_count": 32,
      "outputs": [
        {
          "output_type": "execute_result",
          "data": {
            "text/plain": [
              "<Axes: xlabel='SIRS_Score'>"
            ]
          },
          "metadata": {},
          "execution_count": 32
        },
        {
          "output_type": "display_data",
          "data": {
            "text/plain": [
              "<Figure size 640x480 with 1 Axes>"
            ],
            "image/png": "[encoded data removed]"
          },
          "metadata": {}
        }
      ]
    },
    {
      "cell_type": "code",
      "source": [
        "df.head()"
      ],
      "metadata": {
        "colab": {
          "base_uri": "https://localhost:8080/",
          "height": 272
        },
        "id": "W7YrpVGlrdXQ",
        "outputId": "4340e0db-7d71-4873-9d9b-8ed4272e67b6"
      },
      "execution_count": 33,
      "outputs": [
        {
          "output_type": "execute_result",
          "data": {
            "text/plain": [
              "   Unnamed: 0  Hour    HR  O2Sat  Temp    SBP   MAP   DBP  Resp  EtCO2  ...  \\\n",
              "0           0     0   NaN    NaN   NaN    NaN   NaN   NaN   NaN    NaN  ...   \n",
              "1           1     1  65.0  100.0   NaN    NaN  72.0   NaN  16.5    NaN  ...   \n",
              "2           2     2  78.0  100.0   NaN    NaN  42.5   NaN   NaN    NaN  ...   \n",
              "3           3     3  73.0  100.0   NaN    NaN   NaN   NaN  17.0    NaN  ...   \n",
              "4           4     4  70.0  100.0   NaN  129.0  74.0  69.0  14.0    NaN  ...   \n",
              "\n",
              "   Gender  Unit1  Unit2  HospAdmTime  ICULOS  SepsisLabel  Patient_ID  \\\n",
              "0       0    NaN    NaN        -0.02       1            0       17072   \n",
              "1       0    NaN    NaN        -0.02       2            0       17072   \n",
              "2       0    NaN    NaN        -0.02       3            0       17072   \n",
              "3       0    NaN    NaN        -0.02       4            0       17072   \n",
              "4       0    NaN    NaN        -0.02       5            0       17072   \n",
              "\n",
              "   sepsisType  hasSIRS  SIRS_Score  \n",
              "0   NonSepsis        1           0  \n",
              "1   NonSepsis        0           0  \n",
              "2   NonSepsis        0           0  \n",
              "3   NonSepsis        0           0  \n",
              "4   NonSepsis        0           1  \n",
              "\n",
              "[5 rows x 47 columns]"
            ],
            "text/html": [
              "\n",
              "  <div id=\"df-a8bfa531-34d6-414a-8ff6-c2c967672601\" class=\"colab-df-container\">\n",
              "    <div>\n",
              "<style scoped>\n",
              "    .dataframe tbody tr th:only-of-type {\n",
              "        vertical-align: middle;\n",
              "    }\n",
              "\n",
              "    .dataframe tbody tr th {\n",
              "        vertical-align: top;\n",
              "    }\n",
              "\n",
              "    .dataframe thead th {\n",
              "        text-align: right;\n",
              "    }\n",
              "</style>\n",
              "<table border=\"1\" class=\"dataframe\">\n",
              "  <thead>\n",
              "    <tr style=\"text-align: right;\">\n",
              "      <th></th>\n",
              "      <th>Unnamed: 0</th>\n",
              "      <th>Hour</th>\n",
              "      <th>HR</th>\n",
              "      <th>O2Sat</th>\n",
              "      <th>Temp</th>\n",
              "      <th>SBP</th>\n",
              "      <th>MAP</th>\n",
              "      <th>DBP</th>\n",
              "      <th>Resp</th>\n",
              "      <th>EtCO2</th>\n",
              "      <th>...</th>\n",
              "      <th>Gender</th>\n",
              "      <th>Unit1</th>\n",
              "      <th>Unit2</th>\n",
              "      <th>HospAdmTime</th>\n",
              "      <th>ICULOS</th>\n",
              "      <th>SepsisLabel</th>\n",
              "      <th>Patient_ID</th>\n",
              "      <th>sepsisType</th>\n",
              "      <th>hasSIRS</th>\n",
              "      <th>SIRS_Score</th>\n",
              "    </tr>\n",
              "  </thead>\n",
              "  <tbody>\n",
              "    <tr>\n",
              "      <th>0</th>\n",
              "      <td>0</td>\n",
              "      <td>0</td>\n",
              "      <td>NaN</td>\n",
              "      <td>NaN</td>\n",
              "      <td>NaN</td>\n",
              "      <td>NaN</td>\n",
              "      <td>NaN</td>\n",
              "      <td>NaN</td>\n",
              "      <td>NaN</td>\n",
              "      <td>NaN</td>\n",
              "      <td>...</td>\n",
              "      <td>0</td>\n",
              "      <td>NaN</td>\n",
              "      <td>NaN</td>\n",
              "      <td>-0.02</td>\n",
              "      <td>1</td>\n",
              "      <td>0</td>\n",
              "      <td>17072</td>\n",
              "      <td>NonSepsis</td>\n",
              "      <td>1</td>\n",
              "      <td>0</td>\n",
              "    </tr>\n",
              "    <tr>\n",
              "      <th>1</th>\n",
              "      <td>1</td>\n",
              "      <td>1</td>\n",
              "      <td>65.0</td>\n",
              "      <td>100.0</td>\n",
              "      <td>NaN</td>\n",
              "      <td>NaN</td>\n",
              "      <td>72.0</td>\n",
              "      <td>NaN</td>\n",
              "      <td>16.5</td>\n",
              "      <td>NaN</td>\n",
              "      <td>...</td>\n",
              "      <td>0</td>\n",
              "      <td>NaN</td>\n",
              "      <td>NaN</td>\n",
              "      <td>-0.02</td>\n",
              "      <td>2</td>\n",
              "      <td>0</td>\n",
              "      <td>17072</td>\n",
              "      <td>NonSepsis</td>\n",
              "      <td>0</td>\n",
              "      <td>0</td>\n",
              "    </tr>\n",
              "    <tr>\n",
              "      <th>2</th>\n",
              "      <td>2</td>\n",
              "      <td>2</td>\n",
              "      <td>78.0</td>\n",
              "      <td>100.0</td>\n",
              "      <td>NaN</td>\n",
              "      <td>NaN</td>\n",
              "      <td>42.5</td>\n",
              "      <td>NaN</td>\n",
              "      <td>NaN</td>\n",
              "      <td>NaN</td>\n",
              "      <td>...</td>\n",
              "      <td>0</td>\n",
              "      <td>NaN</td>\n",
              "      <td>NaN</td>\n",
              "      <td>-0.02</td>\n",
              "      <td>3</td>\n",
              "      <td>0</td>\n",
              "      <td>17072</td>\n",
              "      <td>NonSepsis</td>\n",
              "      <td>0</td>\n",
              "      <td>0</td>\n",
              "    </tr>\n",
              "    <tr>\n",
              "      <th>3</th>\n",
              "      <td>3</td>\n",
              "      <td>3</td>\n",
              "      <td>73.0</td>\n",
              "      <td>100.0</td>\n",
              "      <td>NaN</td>\n",
              "      <td>NaN</td>\n",
              "      <td>NaN</td>\n",
              "      <td>NaN</td>\n",
              "      <td>17.0</td>\n",
              "      <td>NaN</td>\n",
              "      <td>...</td>\n",
              "      <td>0</td>\n",
              "      <td>NaN</td>\n",
              "      <td>NaN</td>\n",
              "      <td>-0.02</td>\n",
              "      <td>4</td>\n",
              "      <td>0</td>\n",
              "      <td>17072</td>\n",
              "      <td>NonSepsis</td>\n",
              "      <td>0</td>\n",
              "      <td>0</td>\n",
              "    </tr>\n",
              "    <tr>\n",
              "      <th>4</th>\n",
              "      <td>4</td>\n",
              "      <td>4</td>\n",
              "      <td>70.0</td>\n",
              "      <td>100.0</td>\n",
              "      <td>NaN</td>\n",
              "      <td>129.0</td>\n",
              "      <td>74.0</td>\n",
              "      <td>69.0</td>\n",
              "      <td>14.0</td>\n",
              "      <td>NaN</td>\n",
              "      <td>...</td>\n",
              "      <td>0</td>\n",
              "      <td>NaN</td>\n",
              "      <td>NaN</td>\n",
              "      <td>-0.02</td>\n",
              "      <td>5</td>\n",
              "      <td>0</td>\n",
              "      <td>17072</td>\n",
              "      <td>NonSepsis</td>\n",
              "      <td>0</td>\n",
              "      <td>1</td>\n",
              "    </tr>\n",
              "  </tbody>\n",
              "</table>\n",
              "<p>5 rows × 47 columns</p>\n",
              "</div>\n",
              "    <div class=\"colab-df-buttons\">\n",
              "\n",
              "  <div class=\"colab-df-container\">\n",
              "    <button class=\"colab-df-convert\" onclick=\"convertToInteractive('df-a8bfa531-34d6-414a-8ff6-c2c967672601')\"\n",
              "            title=\"Convert this dataframe to an interactive table.\"\n",
              "            style=\"display:none;\">\n",
              "\n",
              "  <svg xmlns=\"http://www.w3.org/2000/svg\" height=\"24px\" viewBox=\"0 -960 960 960\">\n",
              "    <path d=\"M120-120v-720h720v720H120Zm60-500h600v-160H180v160Zm220 220h160v-160H400v160Zm0 220h160v-160H400v160ZM180-400h160v-160H180v160Zm440 0h160v-160H620v160ZM180-180h160v-160H180v160Zm440 0h160v-160H620v160Z\"/>\n",
              "  </svg>\n",
              "    </button>\n",
              "\n",
              "  <style>\n",
              "    .colab-df-container {\n",
              "      display:flex;\n",
              "      gap: 12px;\n",
              "    }\n",
              "\n",
              "    .colab-df-convert {\n",
              "      background-color: #E8F0FE;\n",
              "      border: none;\n",
              "      border-radius: 50%;\n",
              "      cursor: pointer;\n",
              "      display: none;\n",
              "      fill: #1967D2;\n",
              "      height: 32px;\n",
              "      padding: 0 0 0 0;\n",
              "      width: 32px;\n",
              "    }\n",
              "\n",
              "    .colab-df-convert:hover {\n",
              "      background-color: #E2EBFA;\n",
              "      box-shadow: 0px 1px 2px rgba(60, 64, 67, 0.3), 0px 1px 3px 1px rgba(60, 64, 67, 0.15);\n",
              "      fill: #174EA6;\n",
              "    }\n",
              "\n",
              "    .colab-df-buttons div {\n",
              "      margin-bottom: 4px;\n",
              "    }\n",
              "\n",
              "    [theme=dark] .colab-df-convert {\n",
              "      background-color: #3B4455;\n",
              "      fill: #D2E3FC;\n",
              "    }\n",
              "\n",
              "    [theme=dark] .colab-df-convert:hover {\n",
              "      background-color: #434B5C;\n",
              "      box-shadow: 0px 1px 3px 1px rgba(0, 0, 0, 0.15);\n",
              "      filter: drop-shadow(0px 1px 2px rgba(0, 0, 0, 0.3));\n",
              "      fill: #FFFFFF;\n",
              "    }\n",
              "  </style>\n",
              "\n",
              "    <script>\n",
              "      const buttonEl =\n",
              "        document.querySelector('#df-a8bfa531-34d6-414a-8ff6-c2c967672601 button.colab-df-convert');\n",
              "      buttonEl.style.display =\n",
              "        google.colab.kernel.accessAllowed ? 'block' : 'none';\n",
              "\n",
              "      async function convertToInteractive(key) {\n",
              "        const element = document.querySelector('#df-a8bfa531-34d6-414a-8ff6-c2c967672601');\n",
              "        const dataTable =\n",
              "          await google.colab.kernel.invokeFunction('convertToInteractive',\n",
              "                                                    [key], {});\n",
              "        if (!dataTable) return;\n",
              "\n",
              "        const docLinkHtml = 'Like what you see? Visit the ' +\n",
              "          '<a target=\"_blank\" href=https://colab.research.google.com/notebooks/data_table.ipynb>data table notebook</a>'\n",
              "          + ' to learn more about interactive tables.';\n",
              "        element.innerHTML = '';\n",
              "        dataTable['output_type'] = 'display_data';\n",
              "        await google.colab.output.renderOutput(dataTable, element);\n",
              "        const docLink = document.createElement('div');\n",
              "        docLink.innerHTML = docLinkHtml;\n",
              "        element.appendChild(docLink);\n",
              "      }\n",
              "    </script>\n",
              "  </div>\n",
              "\n",
              "\n",
              "<div id=\"df-c6755bde-9a16-434f-bdd1-0542d45ad5c8\">\n",
              "  <button class=\"colab-df-quickchart\" onclick=\"quickchart('df-c6755bde-9a16-434f-bdd1-0542d45ad5c8')\"\n",
              "            title=\"Suggest charts\"\n",
              "            style=\"display:none;\">\n",
              "\n",
              "<svg xmlns=\"http://www.w3.org/2000/svg\" height=\"24px\"viewBox=\"0 0 24 24\"\n",
              "     width=\"24px\">\n",
              "    <g>\n",
              "        <path d=\"M19 3H5c-1.1 0-2 .9-2 2v14c0 1.1.9 2 2 2h14c1.1 0 2-.9 2-2V5c0-1.1-.9-2-2-2zM9 17H7v-7h2v7zm4 0h-2V7h2v10zm4 0h-2v-4h2v4z\"/>\n",
              "    </g>\n",
              "</svg>\n",
              "  </button>\n",
              "\n",
              "<style>\n",
              "  .colab-df-quickchart {\n",
              "      --bg-color: #E8F0FE;\n",
              "      --fill-color: #1967D2;\n",
              "      --hover-bg-color: #E2EBFA;\n",
              "      --hover-fill-color: #174EA6;\n",
              "      --disabled-fill-color: #AAA;\n",
              "      --disabled-bg-color: #DDD;\n",
              "  }\n",
              "\n",
              "  [theme=dark] .colab-df-quickchart {\n",
              "      --bg-color: #3B4455;\n",
              "      --fill-color: #D2E3FC;\n",
              "      --hover-bg-color: #434B5C;\n",
              "      --hover-fill-color: #FFFFFF;\n",
              "      --disabled-bg-color: #3B4455;\n",
              "      --disabled-fill-color: #666;\n",
              "  }\n",
              "\n",
              "  .colab-df-quickchart {\n",
              "    background-color: var(--bg-color);\n",
              "    border: none;\n",
              "    border-radius: 50%;\n",
              "    cursor: pointer;\n",
              "    display: none;\n",
              "    fill: var(--fill-color);\n",
              "    height: 32px;\n",
              "    padding: 0;\n",
              "    width: 32px;\n",
              "  }\n",
              "\n",
              "  .colab-df-quickchart:hover {\n",
              "    background-color: var(--hover-bg-color);\n",
              "    box-shadow: 0 1px 2px rgba(60, 64, 67, 0.3), 0 1px 3px 1px rgba(60, 64, 67, 0.15);\n",
              "    fill: var(--button-hover-fill-color);\n",
              "  }\n",
              "\n",
              "  .colab-df-quickchart-complete:disabled,\n",
              "  .colab-df-quickchart-complete:disabled:hover {\n",
              "    background-color: var(--disabled-bg-color);\n",
              "    fill: var(--disabled-fill-color);\n",
              "    box-shadow: none;\n",
              "  }\n",
              "\n",
              "  .colab-df-spinner {\n",
              "    border: 2px solid var(--fill-color);\n",
              "    border-color: transparent;\n",
              "    border-bottom-color: var(--fill-color);\n",
              "    animation:\n",
              "      spin 1s steps(1) infinite;\n",
              "  }\n",
              "\n",
              "  @keyframes spin {\n",
              "    0% {\n",
              "      border-color: transparent;\n",
              "      border-bottom-color: var(--fill-color);\n",
              "      border-left-color: var(--fill-color);\n",
              "    }\n",
              "    20% {\n",
              "      border-color: transparent;\n",
              "      border-left-color: var(--fill-color);\n",
              "      border-top-color: var(--fill-color);\n",
              "    }\n",
              "    30% {\n",
              "      border-color: transparent;\n",
              "      border-left-color: var(--fill-color);\n",
              "      border-top-color: var(--fill-color);\n",
              "      border-right-color: var(--fill-color);\n",
              "    }\n",
              "    40% {\n",
              "      border-color: transparent;\n",
              "      border-right-color: var(--fill-color);\n",
              "      border-top-color: var(--fill-color);\n",
              "    }\n",
              "    60% {\n",
              "      border-color: transparent;\n",
              "      border-right-color: var(--fill-color);\n",
              "    }\n",
              "    80% {\n",
              "      border-color: transparent;\n",
              "      border-right-color: var(--fill-color);\n",
              "      border-bottom-color: var(--fill-color);\n",
              "    }\n",
              "    90% {\n",
              "      border-color: transparent;\n",
              "      border-bottom-color: var(--fill-color);\n",
              "    }\n",
              "  }\n",
              "</style>\n",
              "\n",
              "  <script>\n",
              "    async function quickchart(key) {\n",
              "      const quickchartButtonEl =\n",
              "        document.querySelector('#' + key + ' button');\n",
              "      quickchartButtonEl.disabled = true;  // To prevent multiple clicks.\n",
              "      quickchartButtonEl.classList.add('colab-df-spinner');\n",
              "      try {\n",
              "        const charts = await google.colab.kernel.invokeFunction(\n",
              "            'suggestCharts', [key], {});\n",
              "      } catch (error) {\n",
              "        console.error('Error during call to suggestCharts:', error);\n",
              "      }\n",
              "      quickchartButtonEl.classList.remove('colab-df-spinner');\n",
              "      quickchartButtonEl.classList.add('colab-df-quickchart-complete');\n",
              "    }\n",
              "    (() => {\n",
              "      let quickchartButtonEl =\n",
              "        document.querySelector('#df-c6755bde-9a16-434f-bdd1-0542d45ad5c8 button');\n",
              "      quickchartButtonEl.style.display =\n",
              "        google.colab.kernel.accessAllowed ? 'block' : 'none';\n",
              "    })();\n",
              "  </script>\n",
              "</div>\n",
              "    </div>\n",
              "  </div>\n"
            ],
            "application/vnd.google.colaboratory.intrinsic+json": {
              "type": "dataframe",
              "variable_name": "df"
            }
          },
          "metadata": {},
          "execution_count": 33
        }
      ]
    },
    {
      "cell_type": "code",
      "source": [
        "modified_df = df.dropna()"
      ],
      "metadata": {
        "id": "dFGmosOTOP1g"
      },
      "execution_count": 34,
      "outputs": []
    },
    {
      "cell_type": "code",
      "source": [
        "modified_df.shape"
      ],
      "metadata": {
        "colab": {
          "base_uri": "https://localhost:8080/"
        },
        "id": "oV444mgsOtS7",
        "outputId": "6aba35b2-8078-448a-e521-e9cce3415a45"
      },
      "execution_count": 35,
      "outputs": [
        {
          "output_type": "execute_result",
          "data": {
            "text/plain": [
              "(0, 47)"
            ]
          },
          "metadata": {},
          "execution_count": 35
        }
      ]
    },
    {
      "cell_type": "markdown",
      "source": [
        "Stage 2 of mortality analysis of sepsis"
      ],
      "metadata": {
        "id": "ZtnFecST7X4n"
      }
    },
    {
      "cell_type": "code",
      "source": [
        "#Load data from csv file to dataframe\n",
        "sepsis_data = pd.read_csv('/content/drive/MyDrive/Colab Notebooks/sepsis_survival_primary_cohort.csv')\n",
        "\n",
        "print(sepsis_data.shape)"
      ],
      "metadata": {
        "colab": {
          "base_uri": "https://localhost:8080/"
        },
        "id": "-3d5T5qbqALt",
        "outputId": "7cf3e915-90d7-4f7e-cf5e-34edcaa80348"
      },
      "execution_count": 36,
      "outputs": [
        {
          "output_type": "stream",
          "name": "stdout",
          "text": [
            "(110204, 4)\n"
          ]
        }
      ]
    },
    {
      "cell_type": "code",
      "source": [
        "#Description of Features\n",
        "'''\n",
        "\n",
        "age_years: Age (in years) of the subject [integer]\n",
        "\n",
        "sex_0male_1female: Gender of the subject - 0 represents Male, 1 represents Female [binary]\n",
        "\n",
        "episode_number: Subject's n-th episode of sepsis [integer]\n",
        "\n",
        "Description of Label (Outcome):\n",
        "\n",
        "hospital_outcome_1alive_0dead: Outcome during that hospital episode -\n",
        " 0 represents that the patient is deceased,\n",
        " 1 represents that the patient survived [binary] '''"
      ],
      "metadata": {
        "colab": {
          "base_uri": "https://localhost:8080/",
          "height": 72
        },
        "id": "r3Tth1LKqrQZ",
        "outputId": "23f68819-a860-413c-bbb6-04ccec994cae"
      },
      "execution_count": 37,
      "outputs": [
        {
          "output_type": "execute_result",
          "data": {
            "text/plain": [
              "\"\\n\\nage_years: Age (in years) of the subject [integer]\\n\\nsex_0male_1female: Gender of the subject - 0 represents Male, 1 represents Female [binary]\\n\\nepisode_number: Subject's n-th episode of sepsis [integer]\\n\\nDescription of Label (Outcome):\\n\\nhospital_outcome_1alive_0dead: Outcome during that hospital episode -\\n 0 represents that the patient is deceased,\\n 1 represents that the patient survived [binary] \""
            ],
            "application/vnd.google.colaboratory.intrinsic+json": {
              "type": "string"
            }
          },
          "metadata": {},
          "execution_count": 37
        }
      ]
    },
    {
      "cell_type": "code",
      "source": [
        "sepsis_data.rename(columns={\"sex_0male_1female\": \"gender\", \"hospital_outcome_1alive_0dead\": \"hospital_outcome\"}, inplace=True)\n",
        "\n",
        "print(sepsis_data.head())"
      ],
      "metadata": {
        "colab": {
          "base_uri": "https://localhost:8080/"
        },
        "id": "ZmxvlzaHr64_",
        "outputId": "7b7ab6d0-8c8d-4144-cb12-65cac7ea4dc0"
      },
      "execution_count": 38,
      "outputs": [
        {
          "output_type": "stream",
          "name": "stdout",
          "text": [
            "   age_years  gender  episode_number  hospital_outcome\n",
            "0         21       1               1                 1\n",
            "1         20       1               1                 1\n",
            "2         21       1               1                 1\n",
            "3         77       0               1                 1\n",
            "4         72       0               1                 1\n"
          ]
        }
      ]
    },
    {
      "cell_type": "code",
      "source": [
        "# Check for missing values\n",
        "sepsis_data.info()"
      ],
      "metadata": {
        "colab": {
          "base_uri": "https://localhost:8080/"
        },
        "id": "GPCSLO6qtwml",
        "outputId": "eb245694-9eab-491e-f89c-72cc50746e94"
      },
      "execution_count": 39,
      "outputs": [
        {
          "output_type": "stream",
          "name": "stdout",
          "text": [
            "<class 'pandas.core.frame.DataFrame'>\n",
            "RangeIndex: 110204 entries, 0 to 110203\n",
            "Data columns (total 4 columns):\n",
            " #   Column            Non-Null Count   Dtype\n",
            "---  ------            --------------   -----\n",
            " 0   age_years         110204 non-null  int64\n",
            " 1   gender            110204 non-null  int64\n",
            " 2   episode_number    110204 non-null  int64\n",
            " 3   hospital_outcome  110204 non-null  int64\n",
            "dtypes: int64(4)\n",
            "memory usage: 3.4 MB\n"
          ]
        }
      ]
    },
    {
      "cell_type": "code",
      "source": [
        "sepsis_data.describe() # different statistic measures"
      ],
      "metadata": {
        "colab": {
          "base_uri": "https://localhost:8080/",
          "height": 300
        },
        "id": "tzXLlT72t-Jx",
        "outputId": "3631805c-cb50-453a-e9be-f4f9841975e0"
      },
      "execution_count": 40,
      "outputs": [
        {
          "output_type": "execute_result",
          "data": {
            "text/plain": [
              "           age_years         gender  episode_number  hospital_outcome\n",
              "count  110204.000000  110204.000000   110204.000000     110204.000000\n",
              "mean       62.735255       0.473948        1.349379          0.926455\n",
              "std        24.126806       0.499323        0.751799          0.261031\n",
              "min         0.000000       0.000000        1.000000          0.000000\n",
              "25%        51.000000       0.000000        1.000000          1.000000\n",
              "50%        68.000000       0.000000        1.000000          1.000000\n",
              "75%        81.000000       1.000000        1.000000          1.000000\n",
              "max       100.000000       1.000000        5.000000          1.000000"
            ],
            "text/html": [
              "\n",
              "  <div id=\"df-56aa0e57-754d-4e56-899f-8822cd64bc2e\" class=\"colab-df-container\">\n",
              "    <div>\n",
              "<style scoped>\n",
              "    .dataframe tbody tr th:only-of-type {\n",
              "        vertical-align: middle;\n",
              "    }\n",
              "\n",
              "    .dataframe tbody tr th {\n",
              "        vertical-align: top;\n",
              "    }\n",
              "\n",
              "    .dataframe thead th {\n",
              "        text-align: right;\n",
              "    }\n",
              "</style>\n",
              "<table border=\"1\" class=\"dataframe\">\n",
              "  <thead>\n",
              "    <tr style=\"text-align: right;\">\n",
              "      <th></th>\n",
              "      <th>age_years</th>\n",
              "      <th>gender</th>\n",
              "      <th>episode_number</th>\n",
              "      <th>hospital_outcome</th>\n",
              "    </tr>\n",
              "  </thead>\n",
              "  <tbody>\n",
              "    <tr>\n",
              "      <th>count</th>\n",
              "      <td>110204.000000</td>\n",
              "      <td>110204.000000</td>\n",
              "      <td>110204.000000</td>\n",
              "      <td>110204.000000</td>\n",
              "    </tr>\n",
              "    <tr>\n",
              "      <th>mean</th>\n",
              "      <td>62.735255</td>\n",
              "      <td>0.473948</td>\n",
              "      <td>1.349379</td>\n",
              "      <td>0.926455</td>\n",
              "    </tr>\n",
              "    <tr>\n",
              "      <th>std</th>\n",
              "      <td>24.126806</td>\n",
              "      <td>0.499323</td>\n",
              "      <td>0.751799</td>\n",
              "      <td>0.261031</td>\n",
              "    </tr>\n",
              "    <tr>\n",
              "      <th>min</th>\n",
              "      <td>0.000000</td>\n",
              "      <td>0.000000</td>\n",
              "      <td>1.000000</td>\n",
              "      <td>0.000000</td>\n",
              "    </tr>\n",
              "    <tr>\n",
              "      <th>25%</th>\n",
              "      <td>51.000000</td>\n",
              "      <td>0.000000</td>\n",
              "      <td>1.000000</td>\n",
              "      <td>1.000000</td>\n",
              "    </tr>\n",
              "    <tr>\n",
              "      <th>50%</th>\n",
              "      <td>68.000000</td>\n",
              "      <td>0.000000</td>\n",
              "      <td>1.000000</td>\n",
              "      <td>1.000000</td>\n",
              "    </tr>\n",
              "    <tr>\n",
              "      <th>75%</th>\n",
              "      <td>81.000000</td>\n",
              "      <td>1.000000</td>\n",
              "      <td>1.000000</td>\n",
              "      <td>1.000000</td>\n",
              "    </tr>\n",
              "    <tr>\n",
              "      <th>max</th>\n",
              "      <td>100.000000</td>\n",
              "      <td>1.000000</td>\n",
              "      <td>5.000000</td>\n",
              "      <td>1.000000</td>\n",
              "    </tr>\n",
              "  </tbody>\n",
              "</table>\n",
              "</div>\n",
              "    <div class=\"colab-df-buttons\">\n",
              "\n",
              "  <div class=\"colab-df-container\">\n",
              "    <button class=\"colab-df-convert\" onclick=\"convertToInteractive('df-56aa0e57-754d-4e56-899f-8822cd64bc2e')\"\n",
              "            title=\"Convert this dataframe to an interactive table.\"\n",
              "            style=\"display:none;\">\n",
              "\n",
              "  <svg xmlns=\"http://www.w3.org/2000/svg\" height=\"24px\" viewBox=\"0 -960 960 960\">\n",
              "    <path d=\"M120-120v-720h720v720H120Zm60-500h600v-160H180v160Zm220 220h160v-160H400v160Zm0 220h160v-160H400v160ZM180-400h160v-160H180v160Zm440 0h160v-160H620v160ZM180-180h160v-160H180v160Zm440 0h160v-160H620v160Z\"/>\n",
              "  </svg>\n",
              "    </button>\n",
              "\n",
              "  <style>\n",
              "    .colab-df-container {\n",
              "      display:flex;\n",
              "      gap: 12px;\n",
              "    }\n",
              "\n",
              "    .colab-df-convert {\n",
              "      background-color: #E8F0FE;\n",
              "      border: none;\n",
              "      border-radius: 50%;\n",
              "      cursor: pointer;\n",
              "      display: none;\n",
              "      fill: #1967D2;\n",
              "      height: 32px;\n",
              "      padding: 0 0 0 0;\n",
              "      width: 32px;\n",
              "    }\n",
              "\n",
              "    .colab-df-convert:hover {\n",
              "      background-color: #E2EBFA;\n",
              "      box-shadow: 0px 1px 2px rgba(60, 64, 67, 0.3), 0px 1px 3px 1px rgba(60, 64, 67, 0.15);\n",
              "      fill: #174EA6;\n",
              "    }\n",
              "\n",
              "    .colab-df-buttons div {\n",
              "      margin-bottom: 4px;\n",
              "    }\n",
              "\n",
              "    [theme=dark] .colab-df-convert {\n",
              "      background-color: #3B4455;\n",
              "      fill: #D2E3FC;\n",
              "    }\n",
              "\n",
              "    [theme=dark] .colab-df-convert:hover {\n",
              "      background-color: #434B5C;\n",
              "      box-shadow: 0px 1px 3px 1px rgba(0, 0, 0, 0.15);\n",
              "      filter: drop-shadow(0px 1px 2px rgba(0, 0, 0, 0.3));\n",
              "      fill: #FFFFFF;\n",
              "    }\n",
              "  </style>\n",
              "\n",
              "    <script>\n",
              "      const buttonEl =\n",
              "        document.querySelector('#df-56aa0e57-754d-4e56-899f-8822cd64bc2e button.colab-df-convert');\n",
              "      buttonEl.style.display =\n",
              "        google.colab.kernel.accessAllowed ? 'block' : 'none';\n",
              "\n",
              "      async function convertToInteractive(key) {\n",
              "        const element = document.querySelector('#df-56aa0e57-754d-4e56-899f-8822cd64bc2e');\n",
              "        const dataTable =\n",
              "          await google.colab.kernel.invokeFunction('convertToInteractive',\n",
              "                                                    [key], {});\n",
              "        if (!dataTable) return;\n",
              "\n",
              "        const docLinkHtml = 'Like what you see? Visit the ' +\n",
              "          '<a target=\"_blank\" href=https://colab.research.google.com/notebooks/data_table.ipynb>data table notebook</a>'\n",
              "          + ' to learn more about interactive tables.';\n",
              "        element.innerHTML = '';\n",
              "        dataTable['output_type'] = 'display_data';\n",
              "        await google.colab.output.renderOutput(dataTable, element);\n",
              "        const docLink = document.createElement('div');\n",
              "        docLink.innerHTML = docLinkHtml;\n",
              "        element.appendChild(docLink);\n",
              "      }\n",
              "    </script>\n",
              "  </div>\n",
              "\n",
              "\n",
              "<div id=\"df-fbf6d77f-af18-4cc0-8d94-47b6653056d3\">\n",
              "  <button class=\"colab-df-quickchart\" onclick=\"quickchart('df-fbf6d77f-af18-4cc0-8d94-47b6653056d3')\"\n",
              "            title=\"Suggest charts\"\n",
              "            style=\"display:none;\">\n",
              "\n",
              "<svg xmlns=\"http://www.w3.org/2000/svg\" height=\"24px\"viewBox=\"0 0 24 24\"\n",
              "     width=\"24px\">\n",
              "    <g>\n",
              "        <path d=\"M19 3H5c-1.1 0-2 .9-2 2v14c0 1.1.9 2 2 2h14c1.1 0 2-.9 2-2V5c0-1.1-.9-2-2-2zM9 17H7v-7h2v7zm4 0h-2V7h2v10zm4 0h-2v-4h2v4z\"/>\n",
              "    </g>\n",
              "</svg>\n",
              "  </button>\n",
              "\n",
              "<style>\n",
              "  .colab-df-quickchart {\n",
              "      --bg-color: #E8F0FE;\n",
              "      --fill-color: #1967D2;\n",
              "      --hover-bg-color: #E2EBFA;\n",
              "      --hover-fill-color: #174EA6;\n",
              "      --disabled-fill-color: #AAA;\n",
              "      --disabled-bg-color: #DDD;\n",
              "  }\n",
              "\n",
              "  [theme=dark] .colab-df-quickchart {\n",
              "      --bg-color: #3B4455;\n",
              "      --fill-color: #D2E3FC;\n",
              "      --hover-bg-color: #434B5C;\n",
              "      --hover-fill-color: #FFFFFF;\n",
              "      --disabled-bg-color: #3B4455;\n",
              "      --disabled-fill-color: #666;\n",
              "  }\n",
              "\n",
              "  .colab-df-quickchart {\n",
              "    background-color: var(--bg-color);\n",
              "    border: none;\n",
              "    border-radius: 50%;\n",
              "    cursor: pointer;\n",
              "    display: none;\n",
              "    fill: var(--fill-color);\n",
              "    height: 32px;\n",
              "    padding: 0;\n",
              "    width: 32px;\n",
              "  }\n",
              "\n",
              "  .colab-df-quickchart:hover {\n",
              "    background-color: var(--hover-bg-color);\n",
              "    box-shadow: 0 1px 2px rgba(60, 64, 67, 0.3), 0 1px 3px 1px rgba(60, 64, 67, 0.15);\n",
              "    fill: var(--button-hover-fill-color);\n",
              "  }\n",
              "\n",
              "  .colab-df-quickchart-complete:disabled,\n",
              "  .colab-df-quickchart-complete:disabled:hover {\n",
              "    background-color: var(--disabled-bg-color);\n",
              "    fill: var(--disabled-fill-color);\n",
              "    box-shadow: none;\n",
              "  }\n",
              "\n",
              "  .colab-df-spinner {\n",
              "    border: 2px solid var(--fill-color);\n",
              "    border-color: transparent;\n",
              "    border-bottom-color: var(--fill-color);\n",
              "    animation:\n",
              "      spin 1s steps(1) infinite;\n",
              "  }\n",
              "\n",
              "  @keyframes spin {\n",
              "    0% {\n",
              "      border-color: transparent;\n",
              "      border-bottom-color: var(--fill-color);\n",
              "      border-left-color: var(--fill-color);\n",
              "    }\n",
              "    20% {\n",
              "      border-color: transparent;\n",
              "      border-left-color: var(--fill-color);\n",
              "      border-top-color: var(--fill-color);\n",
              "    }\n",
              "    30% {\n",
              "      border-color: transparent;\n",
              "      border-left-color: var(--fill-color);\n",
              "      border-top-color: var(--fill-color);\n",
              "      border-right-color: var(--fill-color);\n",
              "    }\n",
              "    40% {\n",
              "      border-color: transparent;\n",
              "      border-right-color: var(--fill-color);\n",
              "      border-top-color: var(--fill-color);\n",
              "    }\n",
              "    60% {\n",
              "      border-color: transparent;\n",
              "      border-right-color: var(--fill-color);\n",
              "    }\n",
              "    80% {\n",
              "      border-color: transparent;\n",
              "      border-right-color: var(--fill-color);\n",
              "      border-bottom-color: var(--fill-color);\n",
              "    }\n",
              "    90% {\n",
              "      border-color: transparent;\n",
              "      border-bottom-color: var(--fill-color);\n",
              "    }\n",
              "  }\n",
              "</style>\n",
              "\n",
              "  <script>\n",
              "    async function quickchart(key) {\n",
              "      const quickchartButtonEl =\n",
              "        document.querySelector('#' + key + ' button');\n",
              "      quickchartButtonEl.disabled = true;  // To prevent multiple clicks.\n",
              "      quickchartButtonEl.classList.add('colab-df-spinner');\n",
              "      try {\n",
              "        const charts = await google.colab.kernel.invokeFunction(\n",
              "            'suggestCharts', [key], {});\n",
              "      } catch (error) {\n",
              "        console.error('Error during call to suggestCharts:', error);\n",
              "      }\n",
              "      quickchartButtonEl.classList.remove('colab-df-spinner');\n",
              "      quickchartButtonEl.classList.add('colab-df-quickchart-complete');\n",
              "    }\n",
              "    (() => {\n",
              "      let quickchartButtonEl =\n",
              "        document.querySelector('#df-fbf6d77f-af18-4cc0-8d94-47b6653056d3 button');\n",
              "      quickchartButtonEl.style.display =\n",
              "        google.colab.kernel.accessAllowed ? 'block' : 'none';\n",
              "    })();\n",
              "  </script>\n",
              "</div>\n",
              "    </div>\n",
              "  </div>\n"
            ],
            "application/vnd.google.colaboratory.intrinsic+json": {
              "type": "dataframe",
              "summary": "{\n  \"name\": \"sepsis_data\",\n  \"rows\": 8,\n  \"fields\": [\n    {\n      \"column\": \"age_years\",\n      \"properties\": {\n        \"dtype\": \"number\",\n        \"std\": 38943.47107100793,\n        \"min\": 0.0,\n        \"max\": 110204.0,\n        \"num_unique_values\": 8,\n        \"samples\": [\n          62.735254618707124,\n          68.0,\n          110204.0\n        ],\n        \"semantic_type\": \"\",\n        \"description\": \"\"\n      }\n    },\n    {\n      \"column\": \"gender\",\n      \"properties\": {\n        \"dtype\": \"number\",\n        \"std\": 38962.84768627636,\n        \"min\": 0.0,\n        \"max\": 110204.0,\n        \"num_unique_values\": 5,\n        \"samples\": [\n          0.4739483140357882,\n          1.0,\n          0.4993231138658204\n        ],\n        \"semantic_type\": \"\",\n        \"description\": \"\"\n      }\n    },\n    {\n      \"column\": \"episode_number\",\n      \"properties\": {\n        \"dtype\": \"number\",\n        \"std\": 38962.43718805233,\n        \"min\": 0.7517985207617867,\n        \"max\": 110204.0,\n        \"num_unique_values\": 5,\n        \"samples\": [\n          1.34937933287358,\n          5.0,\n          0.7517985207617867\n        ],\n        \"semantic_type\": \"\",\n        \"description\": \"\"\n      }\n    },\n    {\n      \"column\": \"hospital_outcome\",\n      \"properties\": {\n        \"dtype\": \"number\",\n        \"std\": 38962.73585134406,\n        \"min\": 0.0,\n        \"max\": 110204.0,\n        \"num_unique_values\": 5,\n        \"samples\": [\n          0.9264545751515372,\n          1.0,\n          0.26103086716707674\n        ],\n        \"semantic_type\": \"\",\n        \"description\": \"\"\n      }\n    }\n  ]\n}"
            }
          },
          "metadata": {},
          "execution_count": 40
        }
      ]
    },
    {
      "cell_type": "code",
      "source": [
        "print(\"Age distribution:\")\n",
        "print(sepsis_data['age_years'].value_counts(), \"\\n\")\n",
        "\n",
        "# Distribution plot of age\n",
        "sns.histplot(sepsis_data['age_years'], stat='count', bins=50, kde=True)\n",
        "plt.show()"
      ],
      "metadata": {
        "colab": {
          "base_uri": "https://localhost:8080/",
          "height": 721
        },
        "id": "PtSOLjNduJFX",
        "outputId": "4f90b526-b1be-40de-d759-c3da2e0460ba"
      },
      "execution_count": 41,
      "outputs": [
        {
          "output_type": "stream",
          "name": "stdout",
          "text": [
            "Age distribution:\n",
            "age_years\n",
            "82     2665\n",
            "84     2621\n",
            "81     2541\n",
            "83     2523\n",
            "80     2520\n",
            "       ... \n",
            "10      159\n",
            "14      153\n",
            "13      151\n",
            "100     128\n",
            "99       84\n",
            "Name: count, Length: 101, dtype: int64 \n",
            "\n"
          ]
        },
        {
          "output_type": "display_data",
          "data": {
            "text/plain": [
              "<Figure size 640x480 with 1 Axes>"
            ],
            "image/png": "[encoded data removed]"
          },
          "metadata": {}
        }
      ]
    },
    {
      "cell_type": "code",
      "source": [
        "# 0 represents Male, 1 represents Female\n",
        "\n",
        "print(\"Gender:\")\n",
        "print(sepsis_data['gender'].value_counts(normalize=True), \"\\n\")\n",
        "\n",
        "# Plot gender counts\n",
        "sns.countplot(x=sepsis_data['gender'], palette=\"ch:s=.25,rot=-.25\")\n",
        "plt.title('Gender \\n (0: Male || 1: Female)', fontsize=14)\n",
        "\n",
        "plt.show()"
      ],
      "metadata": {
        "colab": {
          "base_uri": "https://localhost:8080/",
          "height": 694
        },
        "id": "YSiL2bUCue95",
        "outputId": "766fe0b6-1b80-4338-bbb2-3b9683f31f88"
      },
      "execution_count": 42,
      "outputs": [
        {
          "output_type": "stream",
          "name": "stdout",
          "text": [
            "Gender:\n",
            "gender\n",
            "0    0.526052\n",
            "1    0.473948\n",
            "Name: proportion, dtype: float64 \n",
            "\n"
          ]
        },
        {
          "output_type": "stream",
          "name": "stderr",
          "text": [
            "<ipython-input-42-56da8cd1230f>:7: FutureWarning: \n",
            "\n",
            "Passing `palette` without assigning `hue` is deprecated and will be removed in v0.14.0. Assign the `x` variable to `hue` and set `legend=False` for the same effect.\n",
            "\n",
            "  sns.countplot(x=sepsis_data['gender'], palette=\"ch:s=.25,rot=-.25\")\n"
          ]
        },
        {
          "output_type": "display_data",
          "data": {
            "text/plain": [
              "<Figure size 640x480 with 1 Axes>"
            ],
            "image/png": "[encoded data removed]"
          },
          "metadata": {}
        }
      ]
    },
    {
      "cell_type": "code",
      "source": [
        "print(\"Episode Number:\")\n",
        "print(sepsis_data['episode_number'].value_counts(normalize=True), \"\\n\")\n",
        "\n",
        "# Plot episode number counts\n",
        "sns.countplot(x=sepsis_data['episode_number'])\n",
        "plt.title('Episode Number', fontsize=14)\n",
        "\n",
        "plt.show()"
      ],
      "metadata": {
        "colab": {
          "base_uri": "https://localhost:8080/",
          "height": 636
        },
        "id": "ZjfSYOEhu283",
        "outputId": "4db9168b-6839-4fa0-9504-9c10b9a9e41f"
      },
      "execution_count": 43,
      "outputs": [
        {
          "output_type": "stream",
          "name": "stdout",
          "text": [
            "Episode Number:\n",
            "episode_number\n",
            "1    0.769582\n",
            "2    0.151428\n",
            "3    0.049027\n",
            "4    0.019954\n",
            "5    0.010009\n",
            "Name: proportion, dtype: float64 \n",
            "\n"
          ]
        },
        {
          "output_type": "display_data",
          "data": {
            "text/plain": [
              "<Figure size 640x480 with 1 Axes>"
            ],
            "image/png": "[encoded data removed]"
          },
          "metadata": {}
        }
      ]
    },
    {
      "cell_type": "markdown",
      "source": [
        "Epsiode number clearly depicts how many times people are affected with sepsis"
      ],
      "metadata": {
        "id": "eh9HNGpAvdE4"
      }
    },
    {
      "cell_type": "code",
      "source": [
        "print(\"Hospital Outcome:\")\n",
        "print(sepsis_data['hospital_outcome'].value_counts(normalize=True),\"\\n\")\n",
        "\n",
        "# Plot Outcomes\n",
        "sns.countplot(x=sepsis_data['hospital_outcome'], palette=\"husl\")\n",
        "plt.title('Hospital Outcome \\n 0: Deceased || 1: Survived', fontsize=14)\n",
        "\n",
        "plt.show()"
      ],
      "metadata": {
        "colab": {
          "base_uri": "https://localhost:8080/",
          "height": 694
        },
        "id": "8QIn0dnkva47",
        "outputId": "9f925953-ba6a-4ab3-823f-0f96096153f8"
      },
      "execution_count": 44,
      "outputs": [
        {
          "output_type": "stream",
          "name": "stdout",
          "text": [
            "Hospital Outcome:\n",
            "hospital_outcome\n",
            "1    0.926455\n",
            "0    0.073545\n",
            "Name: proportion, dtype: float64 \n",
            "\n"
          ]
        },
        {
          "output_type": "stream",
          "name": "stderr",
          "text": [
            "<ipython-input-44-f24bd9ad908c>:5: FutureWarning: \n",
            "\n",
            "Passing `palette` without assigning `hue` is deprecated and will be removed in v0.14.0. Assign the `x` variable to `hue` and set `legend=False` for the same effect.\n",
            "\n",
            "  sns.countplot(x=sepsis_data['hospital_outcome'], palette=\"husl\")\n"
          ]
        },
        {
          "output_type": "display_data",
          "data": {
            "text/plain": [
              "<Figure size 640x480 with 1 Axes>"
            ],
            "image/png": "[encoded data removed]"
          },
          "metadata": {}
        }
      ]
    },
    {
      "cell_type": "markdown",
      "source": [
        "Pre-processing of dataset for training and testing"
      ],
      "metadata": {
        "id": "RJ3pMGeWwaaa"
      }
    },
    {
      "cell_type": "code",
      "source": [
        "# Create sepsis_data_Y to store the label (hospital_outcome)\n",
        "sepsis_data_Y = sepsis_data['hospital_outcome']\n",
        "\n",
        "print(sepsis_data_Y.shape)\n",
        "print(sepsis_data_Y.head())"
      ],
      "metadata": {
        "colab": {
          "base_uri": "https://localhost:8080/"
        },
        "id": "FyIfsuUhvupX",
        "outputId": "f3ab1a7d-3c8e-4ed4-b816-b9d37ed72a9e"
      },
      "execution_count": 45,
      "outputs": [
        {
          "output_type": "stream",
          "name": "stdout",
          "text": [
            "(110204,)\n",
            "0    1\n",
            "1    1\n",
            "2    1\n",
            "3    1\n",
            "4    1\n",
            "Name: hospital_outcome, dtype: int64\n"
          ]
        }
      ]
    },
    {
      "cell_type": "code",
      "source": [
        "# Create sepsis_data_X to store the features\n",
        "sepsis_data_X = sepsis_data.iloc[:, 0:3]\n",
        "\n",
        "print(sepsis_data_X.shape)\n",
        "print(sepsis_data_X.head())\n"
      ],
      "metadata": {
        "colab": {
          "base_uri": "https://localhost:8080/"
        },
        "id": "w8GAnljDwi0_",
        "outputId": "38fe83d8-6b65-447d-91b2-38fa5cb00bb6"
      },
      "execution_count": 46,
      "outputs": [
        {
          "output_type": "stream",
          "name": "stdout",
          "text": [
            "(110204, 3)\n",
            "   age_years  gender  episode_number\n",
            "0         21       1               1\n",
            "1         20       1               1\n",
            "2         21       1               1\n",
            "3         77       0               1\n",
            "4         72       0               1\n"
          ]
        }
      ]
    },
    {
      "cell_type": "code",
      "source": [
        "# Encode categorical features (gender)\n",
        "sepsis_data_X_categorical = ['gender']\n",
        "sepsis_data_X = pd.get_dummies(sepsis_data_X, columns=sepsis_data_X_categorical)\n",
        "\n",
        "print(sepsis_data_X.shape)\n",
        "print(sepsis_data_X.head())"
      ],
      "metadata": {
        "colab": {
          "base_uri": "https://localhost:8080/"
        },
        "id": "Hjq1hQaJwsIt",
        "outputId": "a382ac97-8e83-4271-8e8d-54d639c7bb0e"
      },
      "execution_count": 47,
      "outputs": [
        {
          "output_type": "stream",
          "name": "stdout",
          "text": [
            "(110204, 4)\n",
            "   age_years  episode_number  gender_0  gender_1\n",
            "0         21               1     False      True\n",
            "1         20               1     False      True\n",
            "2         21               1     False      True\n",
            "3         77               1      True     False\n",
            "4         72               1      True     False\n"
          ]
        }
      ]
    },
    {
      "cell_type": "code",
      "source": [
        "# Rename gender columns for clarity\n",
        "# gender_0 -> gender_male\n",
        "# gender_1 -> gender_female\n",
        "sepsis_data_X.rename(columns={\"gender_0\": \"gender_male\", \"gender_1\": \"gender_female\"}, inplace=True)\n",
        "\n",
        "print(sepsis_data_X.head())"
      ],
      "metadata": {
        "colab": {
          "base_uri": "https://localhost:8080/"
        },
        "id": "h_SoryEywyWO",
        "outputId": "994d3969-a3cf-4f75-8a07-ca033c4e38d9"
      },
      "execution_count": 48,
      "outputs": [
        {
          "output_type": "stream",
          "name": "stdout",
          "text": [
            "   age_years  episode_number  gender_male  gender_female\n",
            "0         21               1        False           True\n",
            "1         20               1        False           True\n",
            "2         21               1        False           True\n",
            "3         77               1         True          False\n",
            "4         72               1         True          False\n"
          ]
        }
      ]
    },
    {
      "cell_type": "code",
      "source": [
        "sepsis_data_X.info()\n"
      ],
      "metadata": {
        "colab": {
          "base_uri": "https://localhost:8080/"
        },
        "id": "rkpF2hfAwulm",
        "outputId": "4f9a2934-0ddd-4da5-f62c-bb4dba29b04d"
      },
      "execution_count": 49,
      "outputs": [
        {
          "output_type": "stream",
          "name": "stdout",
          "text": [
            "<class 'pandas.core.frame.DataFrame'>\n",
            "RangeIndex: 110204 entries, 0 to 110203\n",
            "Data columns (total 4 columns):\n",
            " #   Column          Non-Null Count   Dtype\n",
            "---  ------          --------------   -----\n",
            " 0   age_years       110204 non-null  int64\n",
            " 1   episode_number  110204 non-null  int64\n",
            " 2   gender_male     110204 non-null  bool \n",
            " 3   gender_female   110204 non-null  bool \n",
            "dtypes: bool(2), int64(2)\n",
            "memory usage: 1.9 MB\n"
          ]
        }
      ]
    },
    {
      "cell_type": "markdown",
      "source": [
        "Splitting the dataset with train_test_split"
      ],
      "metadata": {
        "id": "sGxMzbnrw_Aj"
      }
    },
    {
      "cell_type": "code",
      "source": [
        "from sklearn.model_selection import train_test_split\n",
        "\n",
        "# Split the dataset for training (80%) & testing (20%)\n",
        "X_train, X_test, Y_train, Y_test = train_test_split(sepsis_data_X, sepsis_data_Y, test_size = 0.2, random_state = 10)\n",
        "\n",
        "# Print the shape of the training & testing dataset\n",
        "print(\"X_train:\", X_train.shape)\n",
        "print(\"X_test:\", X_test.shape)\n",
        "print(\"Y_train:\", Y_train.shape)\n",
        "print(\"Y_test:\", Y_test.shape)"
      ],
      "metadata": {
        "colab": {
          "base_uri": "https://localhost:8080/"
        },
        "id": "KeIRQpbfw7aO",
        "outputId": "457c6d4e-ce48-41b9-b919-a61498c1bc5e"
      },
      "execution_count": 50,
      "outputs": [
        {
          "output_type": "stream",
          "name": "stdout",
          "text": [
            "X_train: (88163, 4)\n",
            "X_test: (22041, 4)\n",
            "Y_train: (88163,)\n",
            "Y_test: (22041,)\n"
          ]
        }
      ]
    },
    {
      "cell_type": "markdown",
      "source": [
        "Transform the data for easier computation and processing"
      ],
      "metadata": {
        "id": "tzZWgyZ7xj3G"
      }
    },
    {
      "cell_type": "code",
      "source": [
        "# Feature Scaling\n",
        "from sklearn.preprocessing import StandardScaler\n",
        "\n",
        "sc = StandardScaler()\n",
        "\n",
        "# Fit the StandardScaler using the training (X_train) dataset\n",
        "# Then, scale both X_train & X_test\n",
        "X_train = sc.fit_transform(X_train)\n",
        "X_test = sc.transform(X_test)"
      ],
      "metadata": {
        "id": "Qbvb_NRZxFyv"
      },
      "execution_count": 51,
      "outputs": []
    },
    {
      "cell_type": "code",
      "source": [
        "# Convert the ndarray back into a pandas dataframe\n",
        "X_train = pd.DataFrame(X_train, columns = ['age_years','episode_number','gender_male', 'gender_female'])\n",
        "X_test = pd.DataFrame(X_test, columns = ['age_years','episode_number','gender_male', 'gender_female'])\n",
        "\n",
        "print(X_train.shape)\n",
        "print(X_train, \"\\n\")\n",
        "print(X_test.shape)\n",
        "print(X_test)"
      ],
      "metadata": {
        "colab": {
          "base_uri": "https://localhost:8080/"
        },
        "id": "slbU_BZWxsq2",
        "outputId": "cc0a50da-b656-45ef-8882-13d590d54a72"
      },
      "execution_count": 52,
      "outputs": [
        {
          "output_type": "stream",
          "name": "stdout",
          "text": [
            "(88163, 4)\n",
            "       age_years  episode_number  gender_male  gender_female\n",
            "0       0.384629       -0.465122    -1.055639       1.055639\n",
            "1       0.757947       -0.465122    -1.055639       1.055639\n",
            "2      -2.601907       -0.465122    -1.055639       1.055639\n",
            "3       0.840906       -0.465122    -1.055639       1.055639\n",
            "4       0.923865       -0.465122    -1.055639       1.055639\n",
            "...          ...             ...          ...            ...\n",
            "88158   0.301670       -0.465122    -1.055639       1.055639\n",
            "88159   0.384629       -0.465122    -1.055639       1.055639\n",
            "88160   0.052792       -0.465122    -1.055639       1.055639\n",
            "88161  -2.601907        0.864834    -1.055639       1.055639\n",
            "88162  -2.518948        2.194791     0.947294      -0.947294\n",
            "\n",
            "[88163 rows x 4 columns] \n",
            "\n",
            "(22041, 4)\n",
            "       age_years  episode_number  gender_male  gender_female\n",
            "0      -2.601907       -0.465122     0.947294      -0.947294\n",
            "1      -0.942720       -0.465122    -1.055639       1.055639\n",
            "2      -0.569403       -0.465122    -1.055639       1.055639\n",
            "3       1.214223       -0.465122     0.947294      -0.947294\n",
            "4       1.131264       -0.465122    -1.055639       1.055639\n",
            "...          ...             ...          ...            ...\n",
            "22036   0.384629       -0.465122    -1.055639       1.055639\n",
            "22037  -2.601907        0.864834    -1.055639       1.055639\n",
            "22038   0.011312       -0.465122    -1.055639       1.055639\n",
            "22039   1.172743        0.864834     0.947294      -0.947294\n",
            "22040   0.923865        0.864834     0.947294      -0.947294\n",
            "\n",
            "[22041 rows x 4 columns]\n"
          ]
        }
      ]
    },
    {
      "cell_type": "markdown",
      "source": [
        "Prediction of the mortality using predefined ML Models"
      ],
      "metadata": {
        "id": "rjVH_Pd_x8fD"
      }
    },
    {
      "cell_type": "code",
      "source": [
        "# Import sklearn models that will be used for machine learning\n",
        "from sklearn.linear_model import LogisticRegression\n",
        "from sklearn.svm import SVC"
      ],
      "metadata": {
        "id": "1V8vGtNPxzpe"
      },
      "execution_count": 53,
      "outputs": []
    },
    {
      "cell_type": "code",
      "source": [
        "from sklearn.metrics import accuracy_score, precision_score, recall_score, f1_score\n",
        "from sklearn.metrics import confusion_matrix,classification_report,ConfusionMatrixDisplay\n",
        "\n",
        "# Define function to measure error\n",
        "def measure_error(y_true, y_pred, label):\n",
        "    return pd.Series({'accuracy': accuracy_score(y_true, y_pred),\n",
        "                      'precision': precision_score(y_true, y_pred, average='weighted'),\n",
        "                      'recall': recall_score(y_true, y_pred, average='weighted'),\n",
        "                      'f1': f1_score(y_true, y_pred, average='weighted')},\n",
        "                      name=label)\n",
        "\n",
        "\n",
        "# Define function to evaluate model & display confusion matrix\n",
        "def evaluate_model(model):\n",
        "    model.fit(X_train, Y_train)\n",
        "    Y_train_pred = model.predict(X_train)\n",
        "    Y_test_pred = model.predict(X_test)\n",
        "\n",
        "    # Compute accuracy, precision, recall, F1\n",
        "    train_test_error = pd.concat([measure_error(Y_train, Y_train_pred, 'train'),\n",
        "                                    measure_error(Y_test, Y_test_pred, 'test')],\n",
        "                                    axis=1)\n",
        "    # Confusion matrix\n",
        "    cm = confusion_matrix(Y_test, Y_test_pred)\n",
        "    disp = ConfusionMatrixDisplay(cm)\n",
        "\n",
        "    print(train_test_error, \"\\n\")\n",
        "    print(classification_report(Y_test, Y_test_pred), \"\\n\")\n",
        "\n",
        "    return disp.plot()"
      ],
      "metadata": {
        "id": "02hQAHQ51o-X"
      },
      "execution_count": 54,
      "outputs": []
    },
    {
      "cell_type": "code",
      "source": [
        "# Applying the Logistic Regression Algorithm\n",
        "\n",
        "classifier_LR = LogisticRegression(random_state = 10)\n",
        "\n",
        "evaluate_model(classifier_LR)"
      ],
      "metadata": {
        "colab": {
          "base_uri": "https://localhost:8080/",
          "height": 958
        },
        "id": "Tn7SyKJH2TJ5",
        "outputId": "e657c59e-c02c-40d3-9d6f-65e7d6cda761"
      },
      "execution_count": 55,
      "outputs": [
        {
          "output_type": "stream",
          "name": "stderr",
          "text": [
            "/usr/local/lib/python3.10/dist-packages/sklearn/metrics/_classification.py:1344: UndefinedMetricWarning: Precision is ill-defined and being set to 0.0 in labels with no predicted samples. Use `zero_division` parameter to control this behavior.\n",
            "  _warn_prf(average, modifier, msg_start, len(result))\n",
            "/usr/local/lib/python3.10/dist-packages/sklearn/metrics/_classification.py:1344: UndefinedMetricWarning: Precision is ill-defined and being set to 0.0 in labels with no predicted samples. Use `zero_division` parameter to control this behavior.\n",
            "  _warn_prf(average, modifier, msg_start, len(result))\n",
            "/usr/local/lib/python3.10/dist-packages/sklearn/metrics/_classification.py:1344: UndefinedMetricWarning: Precision and F-score are ill-defined and being set to 0.0 in labels with no predicted samples. Use `zero_division` parameter to control this behavior.\n",
            "  _warn_prf(average, modifier, msg_start, len(result))\n",
            "/usr/local/lib/python3.10/dist-packages/sklearn/metrics/_classification.py:1344: UndefinedMetricWarning: Precision and F-score are ill-defined and being set to 0.0 in labels with no predicted samples. Use `zero_division` parameter to control this behavior.\n",
            "  _warn_prf(average, modifier, msg_start, len(result))\n",
            "/usr/local/lib/python3.10/dist-packages/sklearn/metrics/_classification.py:1344: UndefinedMetricWarning: Precision and F-score are ill-defined and being set to 0.0 in labels with no predicted samples. Use `zero_division` parameter to control this behavior.\n",
            "  _warn_prf(average, modifier, msg_start, len(result))\n"
          ]
        },
        {
          "output_type": "stream",
          "name": "stdout",
          "text": [
            "              train      test\n",
            "accuracy   0.926738  0.925321\n",
            "precision  0.858843  0.856219\n",
            "recall     0.926738  0.925321\n",
            "f1         0.891500  0.889430 \n",
            "\n",
            "              precision    recall  f1-score   support\n",
            "\n",
            "           0       0.00      0.00      0.00      1646\n",
            "           1       0.93      1.00      0.96     20395\n",
            "\n",
            "    accuracy                           0.93     22041\n",
            "   macro avg       0.46      0.50      0.48     22041\n",
            "weighted avg       0.86      0.93      0.89     22041\n",
            " \n",
            "\n"
          ]
        },
        {
          "output_type": "execute_result",
          "data": {
            "text/plain": [
              "<sklearn.metrics._plot.confusion_matrix.ConfusionMatrixDisplay at 0x7e492473d8d0>"
            ]
          },
          "metadata": {},
          "execution_count": 55
        },
        {
          "output_type": "display_data",
          "data": {
            "text/plain": [
              "<Figure size 640x480 with 2 Axes>"
            ],
            "image/png": "[encoded data removed]"
          },
          "metadata": {}
        }
      ]
    },
    {
      "cell_type": "markdown",
      "source": [
        "Addressing Data Imbalance with Over & Under-Sampling\n"
      ],
      "metadata": {
        "id": "BZcrbLapdBK9"
      }
    },
    {
      "cell_type": "markdown",
      "source": [
        " Defining a function to Evaluate key Parameters after Sampling - \"evaluate_model_modified"
      ],
      "metadata": {
        "id": "j5IAFl-BdNBy"
      }
    },
    {
      "cell_type": "code",
      "source": [
        "# Defining a function to evaulate key parameters after sampling\n",
        "\n",
        "def evaluate_model_modified(model):\n",
        "    model.fit(X_train_modified, Y_train_modified)\n",
        "    Y_train_pred = model.predict(X_train_modified)\n",
        "    Y_test_pred = model.predict(X_test)\n",
        "\n",
        "    # Compute accuracy, precision, recall, F1\n",
        "    train_test_error = pd.concat([measure_error(Y_train_modified, Y_train_pred, 'train'),\n",
        "                                    measure_error(Y_test, Y_test_pred, 'test')],\n",
        "                                    axis=1)\n",
        "\n",
        "    # Compute ROC-AUC score\n",
        "    Y_test_score = model.predict_proba(X_test)[:, 1]\n",
        "    auc_score = roc_auc_score(Y_test, Y_test_score)\n",
        "\n",
        "    # Confusion matrix\n",
        "    cm = confusion_matrix(Y_test, Y_test_pred)\n",
        "    disp = ConfusionMatrixDisplay(cm)\n",
        "\n",
        "    print(train_test_error, \"\\n\")\n",
        "    print(\"ROC-AUC score:\", auc_score, \"\\n\")\n",
        "    print(classification_report(Y_test, Y_test_pred), \"\\n\")\n",
        "\n",
        "    return disp.plot()"
      ],
      "metadata": {
        "id": "AafrEDdp20KK"
      },
      "execution_count": 56,
      "outputs": []
    },
    {
      "cell_type": "markdown",
      "source": [
        "Attempting Random Oversampling of the training **dataset**"
      ],
      "metadata": {
        "id": "eKxAnA6ZenIm"
      }
    },
    {
      "cell_type": "markdown",
      "source": [
        "Oversampling involves randomly duplicating observations from the minority class in order to reinforce its signal.\n",
        "\n",
        "Below, the dataset will be oversampled such that there is an equal ratio of majority and minority class. Then re-evaluate the model using the oversampled dataset using logistic regression."
      ],
      "metadata": {
        "id": "uoqSRi3XeqV9"
      }
    },
    {
      "cell_type": "markdown",
      "source": [],
      "metadata": {
        "id": "dh26fJTgewUl"
      }
    },
    {
      "cell_type": "code",
      "source": [
        "from sklearn.metrics import roc_auc_score\n",
        "# Using RandomOverSampler\n",
        "from imblearn.over_sampling import RandomOverSampler\n",
        "\n",
        "ros = RandomOverSampler(random_state=10)\n",
        "X_train_modified, Y_train_modified = ros.fit_resample(X_train, Y_train)\n",
        "\n",
        "print(X_train_modified.shape)\n",
        "print(Y_train_modified.shape)\n",
        "\n",
        "# Reevaluate using Logistic Regression\n",
        "classifier_LR = LogisticRegression(random_state = 10)\n",
        "evaluate_model_modified(classifier_LR)"
      ],
      "metadata": {
        "colab": {
          "base_uri": "https://localhost:8080/",
          "height": 829
        },
        "id": "7HunEwYSee-b",
        "outputId": "f3da8d47-8f21-4874-887f-a4063a3247bc"
      },
      "execution_count": 57,
      "outputs": [
        {
          "output_type": "stream",
          "name": "stdout",
          "text": [
            "(163408, 4)\n",
            "(163408,)\n",
            "              train      test\n",
            "accuracy   0.649968  0.573976\n",
            "precision  0.654688  0.901022\n",
            "recall     0.649968  0.573976\n",
            "f1         0.647278  0.671322 \n",
            "\n",
            "ROC-AUC score: 0.7079440020708863 \n",
            "\n",
            "              precision    recall  f1-score   support\n",
            "\n",
            "           0       0.12      0.74      0.21      1646\n",
            "           1       0.96      0.56      0.71     20395\n",
            "\n",
            "    accuracy                           0.57     22041\n",
            "   macro avg       0.54      0.65      0.46     22041\n",
            "weighted avg       0.90      0.57      0.67     22041\n",
            " \n",
            "\n"
          ]
        },
        {
          "output_type": "execute_result",
          "data": {
            "text/plain": [
              "<sklearn.metrics._plot.confusion_matrix.ConfusionMatrixDisplay at 0x7e48cd41ae60>"
            ]
          },
          "metadata": {},
          "execution_count": 57
        },
        {
          "output_type": "display_data",
          "data": {
            "text/plain": [
              "<Figure size 640x480 with 2 Axes>"
            ],
            "image/png": "[encoded data removed]"
          },
          "metadata": {}
        }
      ]
    },
    {
      "cell_type": "markdown",
      "source": [
        "With random oversampling, there was a large decrease in the training/testing accuracy from >92% to 65.1% and 57.5% respectively. The variance between training & testing accuracy also increased. This could have happened as \"noise\" from the minority dataset will also be amplified.\n",
        "\n",
        "Despite that, the model is now able to predict the minority class labels where Class = 0 (Patients who were deceased). The recall for class 0 is 0.74, which means that the model is able to predict & detect 74% of patients who died due to sepsis.\n",
        "\n",
        "This makes the model more meaningful as it is important to identify patients who are at higher risk of death, so that healthcare professionals can dedicate more attention to their care."
      ],
      "metadata": {
        "id": "hRc7l29jfRgW"
      }
    },
    {
      "cell_type": "markdown",
      "source": [
        "**Attempting Random Undersampling of the training dataset**"
      ],
      "metadata": {
        "id": "mpDeoL0igPt4"
      }
    },
    {
      "cell_type": "markdown",
      "source": [
        "Undersampling involves randomly removing observations from the majority class to prevent its signal from dominating the learning algorithm.\n",
        "\n",
        "Below, the dataset will be undersampled such that there is an equal ratio of majority and minority class. Then re-evaluate the model using the undersampled dataset using logistic regression."
      ],
      "metadata": {
        "id": "kgJCwrBlgmQ8"
      }
    },
    {
      "cell_type": "code",
      "source": [
        "# Use RandomUnderSampler\n",
        "from imblearn.under_sampling import RandomUnderSampler\n",
        "\n",
        "rus = RandomUnderSampler(random_state=10)\n",
        "X_train_modified, Y_train_modified = rus.fit_resample(X_train, Y_train)\n",
        "\n",
        "print(X_train_modified.shape)\n",
        "print(Y_train_modified.shape)\n",
        "\n",
        "# Reevaluate undersampled dataset using Logistic Regression\n",
        "classifier_LR = LogisticRegression(random_state = 10)\n",
        "evaluate_model_modified(classifier_LR)"
      ],
      "metadata": {
        "colab": {
          "base_uri": "https://localhost:8080/",
          "height": 829
        },
        "id": "Dk9tCvh2gLVN",
        "outputId": "7c7e58e4-37ff-407c-f841-d518f1264526"
      },
      "execution_count": 58,
      "outputs": [
        {
          "output_type": "stream",
          "name": "stdout",
          "text": [
            "(12918, 4)\n",
            "(12918,)\n",
            "              train      test\n",
            "accuracy   0.651881  0.575428\n",
            "precision  0.656477  0.901140\n",
            "recall     0.651881  0.575428\n",
            "f1         0.649306  0.672548 \n",
            "\n",
            "ROC-AUC score: 0.7079891909990328 \n",
            "\n",
            "              precision    recall  f1-score   support\n",
            "\n",
            "           0       0.12      0.74      0.21      1646\n",
            "           1       0.96      0.56      0.71     20395\n",
            "\n",
            "    accuracy                           0.58     22041\n",
            "   macro avg       0.54      0.65      0.46     22041\n",
            "weighted avg       0.90      0.58      0.67     22041\n",
            " \n",
            "\n"
          ]
        },
        {
          "output_type": "execute_result",
          "data": {
            "text/plain": [
              "<sklearn.metrics._plot.confusion_matrix.ConfusionMatrixDisplay at 0x7e48c37fb430>"
            ]
          },
          "metadata": {},
          "execution_count": 58
        },
        {
          "output_type": "display_data",
          "data": {
            "text/plain": [
              "<Figure size 640x480 with 2 Axes>"
            ],
            "image/png": "[encoded data removed]"
          },
          "metadata": {}
        }
      ]
    },
    {
      "cell_type": "markdown",
      "source": [
        "Use of RandomUnderSampler for undersampling appears to give similar results to the use of oversampled datasets with RandomOverSampler and SMOTE.\n",
        "\n",
        "Likewise, the accuracy decreased for both the training and testing dataset, and variance increased. This may be due to potentially useful information being discarded.\n",
        "\n",
        "Despite that, the model will now be better able to predict Class 0 labels."
      ],
      "metadata": {
        "id": "irCiAZ--g4iK"
      }
    },
    {
      "cell_type": "markdown",
      "source": [],
      "metadata": {
        "id": "-nGenQtTg-Z6"
      }
    },
    {
      "cell_type": "code",
      "source": [
        "import matplotlib.pyplot as plt\n",
        "import numpy as np\n",
        "\n",
        "# Data preparation\n",
        "model_names = ['LR', 'LR with OS', 'LR with US']\n",
        "precision_values = [0.926738, 0.649968, 0.651881]\n",
        "\n",
        "# Creating the bar chart\n",
        "x = np.arange(len(model_names))  # the label locations\n",
        "width = 0.35  # the width of the bars\n",
        "\n",
        "fig, ax = plt.subplots(figsize=(10, 6))\n",
        "\n",
        "# Plotting the bars\n",
        "bars = ax.bar(x, precision_values, width, label=['Logistic Regression','Logistic Regression with over Sampling','Logistic Regression with under Sampling'], color=['blue', 'green', 'red'])\n",
        "\n",
        "# Adding labels and titles\n",
        "ax.set_xlabel('Models')\n",
        "ax.set_ylabel('Accuracy')\n",
        "ax.set_title('Accuracy Values of Different Models')\n",
        "ax.set_xticks(x)\n",
        "ax.set_xticklabels(model_names)\n",
        "ax.legend()\n",
        "\n",
        "# Adding precision value labels on top of bars\n",
        "for bar in bars:\n",
        "    height = bar.get_height()\n",
        "    ax.annotate('{}'.format(height),\n",
        "                xy=(bar.get_x() + bar.get_width() / 2, height),\n",
        "                xytext=(0, 3),  # 3 points vertical offset\n",
        "                textcoords=\"offset points\",\n",
        "                ha='center', va='bottom')\n",
        "\n",
        "# Display the plot\n",
        "plt.show()\n"
      ],
      "metadata": {
        "colab": {
          "base_uri": "https://localhost:8080/",
          "height": 564
        },
        "id": "N38CDrru3oXc",
        "outputId": "4ea20be7-a3b9-4629-d30f-6aa542b820f3"
      },
      "execution_count": 62,
      "outputs": [
        {
          "output_type": "display_data",
          "data": {
            "text/plain": [
              "<Figure size 1000x600 with 1 Axes>"
            ],
            "image/png": "[encoded data removed]"
          },
          "metadata": {}
        }
      ]
    }
  ]
}